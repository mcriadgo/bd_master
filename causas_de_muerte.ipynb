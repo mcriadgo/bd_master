{
 "cells": [
  {
   "cell_type": "markdown",
   "metadata": {
    "collapsed": true
   },
   "source": [
    "<h1>\n",
    "    <center>\n",
    "        Causas de muerte en el mundo\n",
    "    </center>\n",
    "</h1>\n",
    "\n",
    "<h2>\n",
    "    <center>\n",
    "        Marta Criado González\n",
    "        <br> <br>\n",
    "        Octubre 2020\n",
    "    </center>\n",
    "</h2>\n",
    "\n",
    "<hr>"
   ]
  },
  {
   "cell_type": "markdown",
   "metadata": {
    "collapsed": true
   },
   "source": [
    "## Import de librerías utilizadas\n",
    "Aquí se importan todas las librerías que se usan en este notebook"
   ]
  },
  {
   "cell_type": "code",
   "execution_count": 205,
   "metadata": {},
   "outputs": [],
   "source": [
    "import pandas as pd\n",
    "import numpy as np\n",
    "import matplotlib.pyplot as plt\n",
    "import os\n",
    "import math"
   ]
  },
  {
   "cell_type": "markdown",
   "metadata": {},
   "source": [
    "***"
   ]
  },
  {
   "cell_type": "markdown",
   "metadata": {},
   "source": [
    "## POBLACIÓN\n",
    "\n",
    "Los siguientes apartados corresponden a los que utilizan el fichero `population.csv`"
   ]
  },
  {
   "cell_type": "code",
   "execution_count": 206,
   "metadata": {},
   "outputs": [],
   "source": [
    "pop_file = './population.csv'"
   ]
  },
  {
   "cell_type": "markdown",
   "metadata": {
    "collapsed": true
   },
   "source": [
    "### Apartado a) \n",
    "\n",
    "__En las páginas de World in Dats puedes encontrar una tabla csv sobre el crecimiento de la población mundial por países (Population growth by country). Diseña una función que cargue dicha tabla y genere un diccionario, que para cada país y cada año, nos dé su población.__\n",
    "\n",
    "__Ten cuidado, además de los países, esta tabla contiene información de regiones (Europa por ejemplo), con o sin código, y del mundo entero.__\n"
   ]
  },
  {
   "cell_type": "markdown",
   "metadata": {},
   "source": [
    "El ejercicio está completo en su totalidad. Además la función diseñada controla que el fichero exista en la carpeta del notebook y que tenga el formato adecuado"
   ]
  },
  {
   "cell_type": "code",
   "execution_count": 207,
   "metadata": {},
   "outputs": [],
   "source": [
    "def read_population(pop_file):\n",
    "    \"\"\"\n",
    "    Lee un fichero, lo parsea line a linea eliminando el caracter de fin de línea.\n",
    "    Crea un diccionario con el nombre del pais como clave y como valor otro diccionario anidado\n",
    "    Este diccionario anidado tiene como clave el año y como valor la población. \n",
    "    En caso de que hubiera varios valores de población para el mismo año y país se añadirían\n",
    "    \n",
    "    Parameters\n",
    "    ----------\n",
    "    pop_file: STR\n",
    "        nombre del fichero a leer\n",
    "        Precondición: tiene que existir dentro de la carpeta donde esté situado este notebook, debe ser formato csv\n",
    "        \n",
    "    Returns\n",
    "    ---------\n",
    "    population : DICTIONARY {STR: DICTIONARY}\n",
    "        diccionario de diccionarios que contiene la población por pais, código y año\n",
    "        Los años y el numero de población están convertidos a tipo integer para sus posteriores usos\n",
    "    \"\"\"\n",
    "    population = {}\n",
    "    assert os.path.exists(pop_file), 'El fichero no existe en la carpeta del notebook'\n",
    "    assert pop_file.endswith('.csv'), 'El fichero no tiene la extensión adecuada'\n",
    "    with open(pop_file, 'r') as f:\n",
    "        header = f.readline()\n",
    "        for line in f:\n",
    "            country, code, year, num_population = line.replace('\\n','').split(',')\n",
    "            if country not in population:\n",
    "                population[country] = {int(year): int(num_population)}\n",
    "            else:\n",
    "                if year not in population[country]:\n",
    "                    population[country][int(year)] = int(num_population)\n",
    "                else:\n",
    "                    population[country][int(year)] += int(num_population)\n",
    "    return population"
   ]
  },
  {
   "cell_type": "code",
   "execution_count": 208,
   "metadata": {},
   "outputs": [],
   "source": [
    "population_dict = read_population(pop_file)"
   ]
  },
  {
   "cell_type": "markdown",
   "metadata": {},
   "source": [
    "#### Pruebas del apartado A)\n",
    "1. Imprimo las 10 primeras claves del resultado de `read_population()`. Corresponden a los paises\n",
    "2. Información por año de la población mundial\n",
    "3. Población en Suecia en el año 1960"
   ]
  },
  {
   "cell_type": "code",
   "execution_count": 209,
   "metadata": {
    "scrolled": false
   },
   "outputs": [
    {
     "name": "stdout",
     "output_type": "stream",
     "text": [
      "Prueba 1: Los 10 primeros paises del diccionario son: \n",
      "['Afghanistan', 'Africa', 'Albania', 'Algeria', 'American Samoa', 'Andorra', 'Angola', 'Anguilla', 'Antigua and Barbuda', 'Argentina']\n",
      "\n",
      "\n",
      "Prueba 2: La población mundial de todos los años es: \n",
      "{-10000: 2431214, -9000: 3564407, -8000: 5136461, -7000: 7561695, -6000: 11461003, -5000: 17920172, -4000: 28370428, -3000: 44819892, -2000: 72108128, -1000: 115065664, 1: 188239088, 100: 195062192, 200: 202309552, 300: 205316560, 400: 208909840, 500: 210429840, 600: 212642768, 700: 225835008, 800: 240487648, 900: 268747456, 1000: 295040192, 1100: 352606912, 1200: 393081024, 1300: 392403520, 1400: 389774816, 1500: 461367648, 1600: 553956096, 1700: 603167552, 1750: 811562112, 1800: 989818304, 1850: 1262682112, 1900: 1650000000, 1901: 1659947520, 1902: 1669996544, 1903: 1680114944, 1904: 1690269440, 1905: 1700426240, 1906: 1710550656, 1907: 1720606976, 1908: 1730558976, 1909: 1740369408, 1910: 1750000000, 1911: 1759443072, 1912: 1768814592, 1913: 1778264832, 1914: 1787947136, 1915: 1798018432, 1916: 1808639488, 1917: 1819975424, 1918: 1832196096, 1919: 1845476992, 1920: 1860000000, 1921: 1875909120, 1922: 1893171584, 1923: 1911708672, 1924: 1931439872, 1925: 1952281984, 1926: 1974148992, 1927: 1996950912, 1928: 2020593536, 1929: 2044978048, 1930: 2070000000, 1931: 2095524352, 1932: 2121306496, 1933: 2147063296, 1934: 2172497152, 1935: 2197296384, 1936: 2221135616, 1937: 2243677440, 1938: 2264574208, 1939: 2283468800, 1940: 2300000000, 1941: 2314055168, 1942: 2326540544, 1943: 2338643968, 1944: 2351580160, 1945: 2366593024, 1946: 2384963584, 1947: 2408024320, 1948: 2437183232, 1949: 2473954560, 1950: 2536431104, 1951: 2584034048, 1952: 2630862080, 1953: 2677608960, 1954: 2724847104, 1955: 2773019904, 1956: 2822443008, 1957: 2873306112, 1958: 2925687040, 1959: 2979576064, 1960: 3034949888, 1961: 3091844096, 1962: 3150420992, 1963: 3211001088, 1964: 3273978112, 1965: 3339584000, 1966: 3407922944, 1967: 3478769920, 1968: 3551599104, 1969: 3625680896, 1970: 3700436992, 1971: 3775759872, 1972: 3851651072, 1973: 3927781120, 1974: 4003793920, 1975: 4079480064, 1976: 4154667008, 1977: 4229506048, 1978: 4304534016, 1979: 4380506112, 1980: 4458002944, 1981: 4536996864, 1982: 4617387008, 1983: 4699569152, 1984: 4784011776, 1985: 4870922240, 1986: 4960567808, 1987: 5052521984, 1988: 5145425920, 1989: 5237441024, 1990: 5327230976, 1991: 5414288896, 1992: 5498919936, 1993: 5581598208, 1994: 5663150080, 1995: 5744212992, 1996: 5824891904, 1997: 5905046016, 1998: 5984794112, 1999: 6064239104, 2000: 6143494144, 2001: 6222626816, 2002: 6301772800, 2003: 6381185024, 2004: 6461158912, 2005: 6541906944, 2006: 6623518208, 2007: 6705947136, 2008: 6789088768, 2009: 6872766976, 2010: 6956824064, 2011: 7041193984, 2012: 7125828096, 2013: 7210582016, 2014: 7295290880, 2015: 7379796992, 2016: 7464022016, 2017: 7547858944, 2018: 7631091200, 2019: 7713467904}\n",
      "\n",
      "\n",
      "Prueba 3: Suecia tenia una población de 7483000 habitantes en 1960\n"
     ]
    }
   ],
   "source": [
    "print('Prueba 1: Los 10 primeros paises del diccionario son: ')\n",
    "print(list(population_dict.keys())[:10])\n",
    "\n",
    "print('\\n')\n",
    "print('Prueba 2: La población mundial de todos los años es: \\n' + str(population_dict['World']))\n",
    "\n",
    "print('\\n')\n",
    "print('Prueba 3: Suecia tenia una población de %s habitantes en 1960' % str(population_dict['Sweden'][1960]))"
   ]
  },
  {
   "cell_type": "markdown",
   "metadata": {},
   "source": [
    "***"
   ]
  },
  {
   "cell_type": "markdown",
   "metadata": {
    "collapsed": true
   },
   "source": [
    "### Apartado b) \n",
    "__Como simples demostraciones, diseña expresiones o funciones que calculen lo siguiente:__\n",
    "- __La población española en 1800__\n",
    "- __La población mundial (El mundo tiene sus propios registros en la tabla csv bajo el nombre “World” y el código “OWID_WRL”) en los años 10.000, 9.000, 8.000, …, 1.000 antes de la era común.__\n",
    "- __El incremento de la población en Europa entre dos años dados. Esto se ha de resolver con una función cuyos requisitos indiquen los años posibles de uso.__"
   ]
  },
  {
   "cell_type": "markdown",
   "metadata": {},
   "source": [
    "El apartado está completo en su totalidad. Además la función diseñada para el tercer punto controla el tipo de sus argumentos y que el año final sea mayor o igual que el año inicial"
   ]
  },
  {
   "cell_type": "code",
   "execution_count": 210,
   "metadata": {},
   "outputs": [],
   "source": [
    "def get_pobspain(data):\n",
    "    '''\n",
    "    Calcula la población de España en el año 1800\n",
    "    Parameters\n",
    "    ----------\n",
    "    data: DICTIONARY {STR: DICTIONARY}\n",
    "        diccionario con los datos de todos los países. \n",
    "        Este diccionario es el obtenido por la función read_population() \n",
    "        definida en celdas superiores\n",
    "    \n",
    "    Returns\n",
    "    --------\n",
    "    result: INT\n",
    "        población de España para 1800\n",
    "    '''\n",
    "    result = data['Spain'][1800]\n",
    "    return result"
   ]
  },
  {
   "cell_type": "code",
   "execution_count": 211,
   "metadata": {},
   "outputs": [],
   "source": [
    "def get_worldpob_bc(data):\n",
    "    \"\"\"\n",
    "    Calcula la población mundial en los años antes de la era común (años mayores que cero)\n",
    "    \n",
    "    Parameters\n",
    "    -----------\n",
    "    data : DICTIONARY {STR: DICTIONARY}\n",
    "        diccionario de población para todos los paises y años.\n",
    "        Este diccionario es el obtenido por la función read_population() \n",
    "        definida en celdas superiores\n",
    "    \n",
    "    Returns\n",
    "    --------\n",
    "    result: LIST OF TUPLES \n",
    "        lista de tuplas en la que cada elemento corresponde al año (posterior al año cero) y su población mundial\n",
    "    \"\"\"\n",
    "    \n",
    "    result = []\n",
    "    for year, num_pob in data.get('World').items():\n",
    "        if year < 0:\n",
    "            result.append((year,num_pob))\n",
    "    return result"
   ]
  },
  {
   "cell_type": "code",
   "execution_count": 212,
   "metadata": {},
   "outputs": [],
   "source": [
    "def get_inc_eupob(data, init_year, end_year):\n",
    "    \"\"\"\n",
    "    Calcula el incremento de población en Europa entre dos años dados por parametro\n",
    "    \n",
    "    Parameters\n",
    "    ----------\n",
    "    data: DICTIONARY {STR: DICTIONARY}\n",
    "        Este diccionario es el obtenido por la función read_population() \n",
    "        definida en celdas superiores\n",
    "    init_year: INT\n",
    "        Año inicial por el que filtrar. Debe ser menor o igual que el argumento end_year. \n",
    "        Tiene que estar entre 0 y 2017\n",
    "        Para la clave 'World' puede ser un valor negativo entre -1000 y 0\n",
    "    end_year: INT\n",
    "        Año final por el que filtrar. Debe ser mayor o igual que el argumento init_year.\n",
    "        Tiene que estar entre 0 y 2017\n",
    "        Para la clave 'World' puede ser un valor negativo entre -1000 y 0\n",
    "    Returns \n",
    "    --------\n",
    "    result : FLOAT\n",
    "        Incremento de población en Europa entre init_year y end_year\n",
    "    \n",
    "    En caso de que no existan datos para init_year o para end_year la función elevará una excepción\n",
    "    \"\"\"\n",
    "    assert type(init_year) is int, 'El año inicial no es un entero'\n",
    "    assert type(end_year) is int, 'El año final no es un entero'\n",
    "    assert end_year >= init_year, 'El año final es menor que el inicial'\n",
    "    try:\n",
    "        result = float(data['Europe'][end_year] -  data['Europe'][init_year])\n",
    "    except:\n",
    "        raise Exception('El año inicial o el año final no tienen datos para Europa')\n",
    "    return result"
   ]
  },
  {
   "cell_type": "markdown",
   "metadata": {},
   "source": [
    "#### Pruebas del apartado B)\n",
    "1. Prueba de la función `get_pobspain()`\n",
    "2. Prueba del resultado de la función `get_worldpob_bc()`\n",
    "3. Prueba con ejecución correcta de `get_inc_eupob()`.El incremento de la población entre los años 1990 y 1991\n",
    "4. Prueba con ejecución incorrecta de `get_inc_eupob()`, El año inicial es mayor que el final"
   ]
  },
  {
   "cell_type": "code",
   "execution_count": 213,
   "metadata": {
    "scrolled": false
   },
   "outputs": [
    {
     "name": "stdout",
     "output_type": "stream",
     "text": [
      "Prueba 1: La población de España en el año 1800 era 11549294\n",
      "Prueba 2:\n",
      "Para el año -10000 la población era 2431214\n",
      "Para el año -9000 la población era 3564407\n",
      "Para el año -8000 la población era 5136461\n",
      "Para el año -7000 la población era 7561695\n",
      "Para el año -6000 la población era 11461003\n",
      "Para el año -5000 la población era 17920172\n",
      "Para el año -4000 la población era 28370428\n",
      "Para el año -3000 la población era 44819892\n",
      "Para el año -2000 la población era 72108128\n",
      "Para el año -1000 la población era 115065664\n",
      "Prueba 3:\n",
      "El incremento de población en Europa es: 1918016\n"
     ]
    },
    {
     "ename": "AssertionError",
     "evalue": "El año final es menor que el inicial",
     "output_type": "error",
     "traceback": [
      "\u001b[1;31m---------------------------------------------------------------------------\u001b[0m",
      "\u001b[1;31mAssertionError\u001b[0m                            Traceback (most recent call last)",
      "\u001b[1;32m<ipython-input-213-e6bbaa9c7d0e>\u001b[0m in \u001b[0;36m<module>\u001b[1;34m\u001b[0m\n\u001b[0;32m      5\u001b[0m \u001b[1;33m\u001b[0m\u001b[0m\n\u001b[0;32m      6\u001b[0m \u001b[0mprint\u001b[0m\u001b[1;33m(\u001b[0m\u001b[1;34m'Prueba 3:\\nEl incremento de población en Europa es: %d'\u001b[0m \u001b[1;33m%\u001b[0m \u001b[1;33m(\u001b[0m\u001b[0mget_inc_eupob\u001b[0m\u001b[1;33m(\u001b[0m\u001b[0mpopulation_dict\u001b[0m\u001b[1;33m,\u001b[0m\u001b[1;36m1990\u001b[0m\u001b[1;33m,\u001b[0m \u001b[1;36m1991\u001b[0m\u001b[1;33m)\u001b[0m\u001b[1;33m)\u001b[0m\u001b[1;33m)\u001b[0m\u001b[1;33m\u001b[0m\u001b[1;33m\u001b[0m\u001b[0m\n\u001b[1;32m----> 7\u001b[1;33m \u001b[0mprint\u001b[0m\u001b[1;33m(\u001b[0m\u001b[1;34m'Prueba 4:\\nEl incremento de población en Europa es: %d'\u001b[0m \u001b[1;33m%\u001b[0m \u001b[1;33m(\u001b[0m\u001b[0mget_inc_eupob\u001b[0m\u001b[1;33m(\u001b[0m\u001b[0mpopulation_dict\u001b[0m\u001b[1;33m,\u001b[0m\u001b[1;36m1990\u001b[0m\u001b[1;33m,\u001b[0m \u001b[1;36m1800\u001b[0m\u001b[1;33m)\u001b[0m\u001b[1;33m)\u001b[0m\u001b[1;33m)\u001b[0m\u001b[1;33m\u001b[0m\u001b[1;33m\u001b[0m\u001b[0m\n\u001b[0m",
      "\u001b[1;32m<ipython-input-212-4e671f59c1c1>\u001b[0m in \u001b[0;36mget_inc_eupob\u001b[1;34m(data, init_year, end_year)\u001b[0m\n\u001b[0;32m     21\u001b[0m     \u001b[1;32massert\u001b[0m \u001b[0mtype\u001b[0m\u001b[1;33m(\u001b[0m\u001b[0minit_year\u001b[0m\u001b[1;33m)\u001b[0m \u001b[1;32mis\u001b[0m \u001b[0mint\u001b[0m\u001b[1;33m,\u001b[0m \u001b[1;34m'El año inicial no es un entero'\u001b[0m\u001b[1;33m\u001b[0m\u001b[1;33m\u001b[0m\u001b[0m\n\u001b[0;32m     22\u001b[0m     \u001b[1;32massert\u001b[0m \u001b[0mtype\u001b[0m\u001b[1;33m(\u001b[0m\u001b[0mend_year\u001b[0m\u001b[1;33m)\u001b[0m \u001b[1;32mis\u001b[0m \u001b[0mint\u001b[0m\u001b[1;33m,\u001b[0m \u001b[1;34m'El año final no es un entero'\u001b[0m\u001b[1;33m\u001b[0m\u001b[1;33m\u001b[0m\u001b[0m\n\u001b[1;32m---> 23\u001b[1;33m     \u001b[1;32massert\u001b[0m \u001b[0mend_year\u001b[0m \u001b[1;33m>=\u001b[0m \u001b[0minit_year\u001b[0m\u001b[1;33m,\u001b[0m \u001b[1;34m'El año final es menor que el inicial'\u001b[0m\u001b[1;33m\u001b[0m\u001b[1;33m\u001b[0m\u001b[0m\n\u001b[0m\u001b[0;32m     24\u001b[0m     \u001b[1;32mtry\u001b[0m\u001b[1;33m:\u001b[0m\u001b[1;33m\u001b[0m\u001b[1;33m\u001b[0m\u001b[0m\n\u001b[0;32m     25\u001b[0m         \u001b[0mresult\u001b[0m \u001b[1;33m=\u001b[0m \u001b[0mfloat\u001b[0m\u001b[1;33m(\u001b[0m\u001b[0mdata\u001b[0m\u001b[1;33m[\u001b[0m\u001b[1;34m'Europe'\u001b[0m\u001b[1;33m]\u001b[0m\u001b[1;33m[\u001b[0m\u001b[0mend_year\u001b[0m\u001b[1;33m]\u001b[0m \u001b[1;33m-\u001b[0m  \u001b[0mdata\u001b[0m\u001b[1;33m[\u001b[0m\u001b[1;34m'Europe'\u001b[0m\u001b[1;33m]\u001b[0m\u001b[1;33m[\u001b[0m\u001b[0minit_year\u001b[0m\u001b[1;33m]\u001b[0m\u001b[1;33m)\u001b[0m\u001b[1;33m\u001b[0m\u001b[1;33m\u001b[0m\u001b[0m\n",
      "\u001b[1;31mAssertionError\u001b[0m: El año final es menor que el inicial"
     ]
    }
   ],
   "source": [
    "print('Prueba 1: La población de España en el año 1800 era %d' % get_pobspain(population_dict))\n",
    "print('Prueba 2:')\n",
    "for elem in get_worldpob_bc(population_dict):\n",
    "    print('Para el año %s la población era %s' % (str(elem[0]), str(elem[1])))\n",
    "\n",
    "print('Prueba 3:\\nEl incremento de población en Europa es: %d' % (get_inc_eupob(population_dict,1990, 1991)))\n",
    "print('Prueba 4:\\nEl incremento de población en Europa es: %d' % (get_inc_eupob(population_dict,1990, 1800)))"
   ]
  },
  {
   "cell_type": "markdown",
   "metadata": {},
   "source": [
    "***"
   ]
  },
  {
   "cell_type": "markdown",
   "metadata": {},
   "source": [
    "### Apartado c) \n",
    "__Diseña ahora una función que genere una tabla de datos con las poblaciones de los distintos países entre dos años dados como parámetros (por ejemplo, entre 2007 y 2016). Esta tabla puede ser una simple lista de listas, o un array (de numpy) o un dataframe (de pandas) o incluso un diccionario.__"
   ]
  },
  {
   "cell_type": "markdown",
   "metadata": {},
   "source": [
    "Apartado completo en su totalidad. Primero carga del fichero en una tabla de datos de Pandas y después genera una función que realiza la tabla de datos con las poblaciones de todos los países entre dos años. La función controla el tipo de los argumentos (año inicial, año final), que el año final sea myor o igual que el inicial, y que los años sean mayores que cero\n",
    "\n",
    "__Importante__: la variable `population` donde se guardan los datos del fichero `population.csv` se utilizará en otros apartados como argumento de la función"
   ]
  },
  {
   "cell_type": "code",
   "execution_count": 214,
   "metadata": {},
   "outputs": [],
   "source": [
    "population= pd.read_csv(pop_file)"
   ]
  },
  {
   "cell_type": "code",
   "execution_count": 215,
   "metadata": {},
   "outputs": [],
   "source": [
    "def create_table(df, init_year,  end_year):\n",
    "    \"\"\"\n",
    "    Crea un dataframe con la poblacion de todos los países entre dos años dados por parametro\n",
    "    \n",
    "    Parameters\n",
    "    ----------\n",
    "    df: DATAFRAME\n",
    "        Tabla de datos guardada en la variable population\n",
    "    init_year: INT\n",
    "        Año inicial por el que filtrar. Debe ser menor o igual que el argumento end_year.\n",
    "        Tiene que estar entre 0 y 2017 y ser menor o igual que el año final. \n",
    "        Para la clave 'World' puede ser un valor negativo entre -1000 y 0\n",
    "    end_year: INT\n",
    "        Año final por el que filtrar. Debe ser mayor o igual que el argumento init_year.\n",
    "        Tiene que estar entre 0 y 2017 y ser mayor o igual que el año final. \n",
    "        Para la clave 'World' puede ser un valor negativo entre -1000 y 0\n",
    "          \n",
    "    Returns\n",
    "    --------\n",
    "    result: DATAFRAME\n",
    "        tabla de datos con la población de los países entre dos años pasados como argumento de la función\n",
    "    \"\"\"\n",
    "    \n",
    "    assert type(init_year) is int\n",
    "    assert type(end_year) is int\n",
    "    assert end_year >= init_year, 'El año final es menor que el inicial'\n",
    "    assert init_year > 0, 'Año inicial es menor o igual que 0'\n",
    "    assert end_year > 0, 'Año final es menor o igual que 0'\n",
    "    result = df.loc[df.loc[:, 'Year'].between(init_year, end_year), : ]\n",
    "    return result"
   ]
  },
  {
   "cell_type": "markdown",
   "metadata": {},
   "source": [
    "#### Pruebas del apartado C)\n",
    "1. Prueba con ejecución correcta de la función `create_table()`. Imprime una muestra de la tabla de datos obtenida\n",
    "2. Prueba con ejecución incorrecta de la función `create_table()`. El año inicial es mayor que el final"
   ]
  },
  {
   "cell_type": "code",
   "execution_count": 216,
   "metadata": {
    "scrolled": false
   },
   "outputs": [
    {
     "name": "stdout",
     "output_type": "stream",
     "text": [
      "Prueba 1:\n",
      "          Entity Code  Year  Total population (Gapminder, HYDE & UN)\n",
      "180  Afghanistan  AFG  1980                                 13357000\n",
      "181  Afghanistan  AFG  1981                                 13172000\n",
      "182  Afghanistan  AFG  1982                                 12883000\n",
      "183  Afghanistan  AFG  1983                                 12538000\n",
      "184  Afghanistan  AFG  1984                                 12204000\n",
      "\n",
      "Prueba 2: \n"
     ]
    },
    {
     "ename": "AssertionError",
     "evalue": "El año final es menor que el inicial",
     "output_type": "error",
     "traceback": [
      "\u001b[1;31m---------------------------------------------------------------------------\u001b[0m",
      "\u001b[1;31mAssertionError\u001b[0m                            Traceback (most recent call last)",
      "\u001b[1;32m<ipython-input-216-22fa2a31b04d>\u001b[0m in \u001b[0;36m<module>\u001b[1;34m\u001b[0m\n\u001b[0;32m      3\u001b[0m \u001b[1;33m\u001b[0m\u001b[0m\n\u001b[0;32m      4\u001b[0m \u001b[0mprint\u001b[0m\u001b[1;33m(\u001b[0m\u001b[1;34m'\\nPrueba 2: '\u001b[0m\u001b[1;33m)\u001b[0m\u001b[1;33m\u001b[0m\u001b[1;33m\u001b[0m\u001b[0m\n\u001b[1;32m----> 5\u001b[1;33m \u001b[0mprint\u001b[0m\u001b[1;33m(\u001b[0m\u001b[0mcreate_table\u001b[0m\u001b[1;33m(\u001b[0m\u001b[0mpopulation\u001b[0m\u001b[1;33m,\u001b[0m\u001b[1;36m1985\u001b[0m\u001b[1;33m,\u001b[0m \u001b[1;36m1980\u001b[0m\u001b[1;33m)\u001b[0m\u001b[1;33m)\u001b[0m\u001b[1;33m\u001b[0m\u001b[1;33m\u001b[0m\u001b[0m\n\u001b[0m",
      "\u001b[1;32m<ipython-input-215-db01f67814bb>\u001b[0m in \u001b[0;36mcreate_table\u001b[1;34m(df, init_year, end_year)\u001b[0m\n\u001b[0;32m     20\u001b[0m     \u001b[1;32massert\u001b[0m \u001b[0mtype\u001b[0m\u001b[1;33m(\u001b[0m\u001b[0minit_year\u001b[0m\u001b[1;33m)\u001b[0m \u001b[1;32mis\u001b[0m \u001b[0mint\u001b[0m\u001b[1;33m\u001b[0m\u001b[1;33m\u001b[0m\u001b[0m\n\u001b[0;32m     21\u001b[0m     \u001b[1;32massert\u001b[0m \u001b[0mtype\u001b[0m\u001b[1;33m(\u001b[0m\u001b[0mend_year\u001b[0m\u001b[1;33m)\u001b[0m \u001b[1;32mis\u001b[0m \u001b[0mint\u001b[0m\u001b[1;33m\u001b[0m\u001b[1;33m\u001b[0m\u001b[0m\n\u001b[1;32m---> 22\u001b[1;33m     \u001b[1;32massert\u001b[0m \u001b[0mend_year\u001b[0m \u001b[1;33m>=\u001b[0m \u001b[0minit_year\u001b[0m\u001b[1;33m,\u001b[0m \u001b[1;34m'El año final es menor que el inicial'\u001b[0m\u001b[1;33m\u001b[0m\u001b[1;33m\u001b[0m\u001b[0m\n\u001b[0m\u001b[0;32m     23\u001b[0m     \u001b[1;32massert\u001b[0m \u001b[0minit_year\u001b[0m \u001b[1;33m>\u001b[0m \u001b[1;36m0\u001b[0m\u001b[1;33m,\u001b[0m \u001b[1;34m'Año inicial es menor o igual que 0'\u001b[0m\u001b[1;33m\u001b[0m\u001b[1;33m\u001b[0m\u001b[0m\n\u001b[0;32m     24\u001b[0m     \u001b[1;32massert\u001b[0m \u001b[0mend_year\u001b[0m \u001b[1;33m>\u001b[0m \u001b[1;36m0\u001b[0m\u001b[1;33m,\u001b[0m \u001b[1;34m'Año final es menor o igual que 0'\u001b[0m\u001b[1;33m\u001b[0m\u001b[1;33m\u001b[0m\u001b[0m\n",
      "\u001b[1;31mAssertionError\u001b[0m: El año final es menor que el inicial"
     ]
    }
   ],
   "source": [
    "print('Prueba 1:')\n",
    "print(create_table(population,1980, 1985).head())\n",
    "\n",
    "print('\\nPrueba 2: ')\n",
    "print(create_table(population,1985, 1980))"
   ]
  },
  {
   "cell_type": "markdown",
   "metadata": {},
   "source": [
    "***"
   ]
  },
  {
   "cell_type": "markdown",
   "metadata": {},
   "source": [
    "### Apartado d) \n",
    "__Sería ideal mostrar la evolución de la población mundial entre dos fechas dadas, de la era común, y compararla con la de un país (otro parámetro). Para que los gráficos sean apreciables, convendría cambiar la escala del país, y lógicamente esa escala dependerá de la población del país, de manera que la función correspondiente tendrá que calcular esa escala con algún criterio razonable.__"
   ]
  },
  {
   "cell_type": "markdown",
   "metadata": {},
   "source": [
    "Apartado completo en su totalidad. La función controla que el argumento `country` sea de tipo string. \n",
    "\n",
    "__Importante__: es necesario haber ejecutado la línea `population=pd.read_csv()` anteriormente definida para ejecutar esta función. Explicación sobre el escalado de los datos en el fichero `documentacionProyecto.pdf` situado en la misma carpeta que este notebook"
   ]
  },
  {
   "cell_type": "code",
   "execution_count": 217,
   "metadata": {},
   "outputs": [],
   "source": [
    "from sklearn.preprocessing import MinMaxScaler"
   ]
  },
  {
   "cell_type": "code",
   "execution_count": 218,
   "metadata": {},
   "outputs": [],
   "source": [
    "def world_pob_evolution(df, country, init_year, end_year):\n",
    "    \"\"\"\n",
    "    Invoca a la funcion create_table para obtener una tabla de datos filtrada por dos años.\n",
    "    Esta tabla es filtrada de nuevo por el país pasado como argumento de la función y la entidad 'World'\n",
    "    Se genera una pivot table para tener como columnas el pais y 'World' y como indices los años dentro del intervalo\n",
    "    por el que se filtra. Los valores de esta tabla serán la población mundial y la población del país\n",
    "    \n",
    "    Parameters\n",
    "    ----------\n",
    "    df: DATAFRAME\n",
    "        Tabla de datos obtenida de la lectura del fichero population.csv, se define con la variable population\n",
    "    country: STR\n",
    "        País por el que se quiere filtrar. Tiene que estar dentro de la lista de paises que forman la columna Entity\n",
    "    init_year: INT\n",
    "        Año inicial por el que filtrar. Tiene que estar entre 0 y 2017 y ser menor o igual que el año final. \n",
    "        Para la clave 'World' puede ser un valor negativo entre -1000 y 0\n",
    "    end_year: INT\n",
    "        Año final por el que filtrar. Tiene que estar entre 0 y 2017 y ser mayor o igual que el año final.\n",
    "        Para la clave 'World' puede ser un valor negativo entre -1000 y 0\n",
    "    \n",
    "    Returns\n",
    "    -------\n",
    "    result: DATAFRAME\n",
    "        Tabla de datos cuyas columnas son el país y 'World', cuyos índices son los años dentro del intervalo filtrado\n",
    "        y los valores la población del país y la población mundial\n",
    "    \n",
    "    \"\"\"\n",
    "    scaler = MinMaxScaler()\n",
    "    assert type(country) is str, 'El pais debe ser un string'\n",
    "    year_filtered = create_table(df, init_year,  end_year)\n",
    "    country_filtered = year_filtered.loc[year_filtered['Entity'].isin([country, 'World'])]\n",
    "    result = pd.pivot_table(country_filtered, values='Total population (Gapminder, HYDE & UN)', index=['Year'], columns=['Entity'])\n",
    "    result[[country, 'World']] = scaler.fit_transform(result[[country, 'World']])\n",
    "    return result"
   ]
  },
  {
   "cell_type": "code",
   "execution_count": 219,
   "metadata": {},
   "outputs": [],
   "source": [
    "def plot_chart(data):\n",
    "    \"\"\"\n",
    "    Dibuja una gráfica con los datos de población total de un país entre el rango de años que se pasa por parametro.\n",
    "    Dibuja otra gráfica con los datos de población total mundial entre el rango de años pasado por parametro.\n",
    "    Se unen ambas gráficas en la misma figura.\n",
    "    \n",
    "    Parameters\n",
    "    -----------\n",
    "    data: DATAFRAME\n",
    "        Tabla de datos obtenida de la función world_pob_evolution definida en la celda anterior\n",
    "    \"\"\"\n",
    "    fig = plt.figure(figsize=(20,10))\n",
    "    my_xticks = [str(elem) for elem in data.index]\n",
    "    plt.xticks(data.index, my_xticks)\n",
    "    plt.plot(data.index, data.iloc[:,0] ,marker='o',label='World data')\n",
    "    plt.plot(data.index, data.iloc[:,1] ,marker='D',label='%s data' % data.columns[0])\n",
    "    plt.legend()\n",
    "    plt.show()"
   ]
  },
  {
   "cell_type": "markdown",
   "metadata": {},
   "source": [
    "#### Pruebas del apartado D)\n",
    "- Prueba 1: Muestra de la ejecución correcta de la función `world_pob_evolution()`\n",
    "- Prueba 2: Pinta la gráfica con la tabla de datos de la función anterior"
   ]
  },
  {
   "cell_type": "code",
   "execution_count": 220,
   "metadata": {},
   "outputs": [
    {
     "data": {
      "text/html": [
       "<div>\n",
       "<style scoped>\n",
       "    .dataframe tbody tr th:only-of-type {\n",
       "        vertical-align: middle;\n",
       "    }\n",
       "\n",
       "    .dataframe tbody tr th {\n",
       "        vertical-align: top;\n",
       "    }\n",
       "\n",
       "    .dataframe thead th {\n",
       "        text-align: right;\n",
       "    }\n",
       "</style>\n",
       "<table border=\"1\" class=\"dataframe\">\n",
       "  <thead>\n",
       "    <tr style=\"text-align: right;\">\n",
       "      <th>Entity</th>\n",
       "      <th>Spain</th>\n",
       "      <th>World</th>\n",
       "    </tr>\n",
       "    <tr>\n",
       "      <th>Year</th>\n",
       "      <th></th>\n",
       "      <th></th>\n",
       "    </tr>\n",
       "  </thead>\n",
       "  <tbody>\n",
       "    <tr>\n",
       "      <th>1970</th>\n",
       "      <td>0.000000</td>\n",
       "      <td>0.000000</td>\n",
       "    </tr>\n",
       "    <tr>\n",
       "      <th>1971</th>\n",
       "      <td>0.055179</td>\n",
       "      <td>0.030831</td>\n",
       "    </tr>\n",
       "    <tr>\n",
       "      <th>1972</th>\n",
       "      <td>0.112376</td>\n",
       "      <td>0.061895</td>\n",
       "    </tr>\n",
       "    <tr>\n",
       "      <th>1973</th>\n",
       "      <td>0.170725</td>\n",
       "      <td>0.093057</td>\n",
       "    </tr>\n",
       "    <tr>\n",
       "      <th>1974</th>\n",
       "      <td>0.229362</td>\n",
       "      <td>0.124171</td>\n",
       "    </tr>\n",
       "  </tbody>\n",
       "</table>\n",
       "</div>"
      ],
      "text/plain": [
       "Entity     Spain     World\n",
       "Year                      \n",
       "1970    0.000000  0.000000\n",
       "1971    0.055179  0.030831\n",
       "1972    0.112376  0.061895\n",
       "1973    0.170725  0.093057\n",
       "1974    0.229362  0.124171"
      ]
     },
     "execution_count": 220,
     "metadata": {},
     "output_type": "execute_result"
    }
   ],
   "source": [
    "world_pob_evolution(population, 'Spain', 1970, 2000).head(5)"
   ]
  },
  {
   "cell_type": "code",
   "execution_count": 221,
   "metadata": {},
   "outputs": [
    {
     "data": {
      "image/png": "[encoded data removed]",
      "text/plain": [
       "<Figure size 1440x720 with 1 Axes>"
      ]
     },
     "metadata": {
      "needs_background": "light"
     },
     "output_type": "display_data"
    }
   ],
   "source": [
    "plot_chart(world_pob_evolution(population, 'Spain', 1970, 2000))"
   ]
  },
  {
   "cell_type": "markdown",
   "metadata": {},
   "source": [
    "***"
   ]
  },
  {
   "cell_type": "markdown",
   "metadata": {},
   "source": [
    "## CAUSAS DE MUERTE"
   ]
  },
  {
   "cell_type": "markdown",
   "metadata": {},
   "source": [
    "__Vamos ahora con la mortalidad. La información mostrada en la _Figura 1_ se pueden ver también en forma de tabla seleccionando el año (desde 2007 hasta 2016), y lo que es más útil, estos datos también están disponibles al completo en una tabla csv `annual-number-of-deaths-by-cause.csv` que, para cada país y año, contiene el número de muertes por distintas causas:__\n"
   ]
  },
  {
   "cell_type": "markdown",
   "metadata": {},
   "source": [
    "### Apartado e) \n",
    "__Prepara una función que cargue los datos en una tabla, en el formato que te parezca más adecuado, teniendo en cuenta su utilidad en los apartados siguientes. Por unos pocos ejemplos de su uso similares a los planteados en el apartado b).__"
   ]
  },
  {
   "cell_type": "markdown",
   "metadata": {},
   "source": [
    "Apartado completo en su totalidad.   \n",
    "__Importante__: la variable `deaths` que se genera en este apartado se utilizará en siguientes apartados  \n",
    "__Importante__: Tras hacer un primer análisis del fichero que se va a leer he detectado que en la columna `Number of executions(Amnesty International)` existe el valor `>1` y `>1000`. Si se intenta sumar estos valores con el resto de las filas de esa columna dará un error puesto que ese valor no puede ser transformado a tipo numérico como el resto. Por tanto, lo que he decidido con este número es eliminar el carácter '>' y sumar la cantidad que está a continuación. "
   ]
  },
  {
   "cell_type": "code",
   "execution_count": 222,
   "metadata": {},
   "outputs": [],
   "source": [
    "annual_deaths = './annual-number-of-deaths-by-cause.csv'"
   ]
  },
  {
   "cell_type": "code",
   "execution_count": 223,
   "metadata": {},
   "outputs": [],
   "source": [
    "def read_annual_deaths(annual_deaths_file):\n",
    "    '''\n",
    "    Lee el csv pasado como argumento y lo transforma en una tabla de datos. Como todos los nombres de las \n",
    "    columnas del dataframe siguen un patrón `Deaths - Causa - Sex: Both - Age: All Ages (Number)` realizo un \n",
    "    split por el delimitador ' - ' y me quedo solo con la causa de muerte. En caso de que haya algún error en la lectura \n",
    "    del fichero o en el cambio de nombre de columnas se elevará una excepción\n",
    "    \n",
    "    Parameters\n",
    "    -----------\n",
    "    annual_deaths_file: STR\n",
    "        fichero csv con los datos del número de muertes por año, país y causa. El fichero debe existir en la misma carpeta\n",
    "        donde esté ubicado este notebook y debe ser formato csv\n",
    "        \n",
    "    Returns\n",
    "    --------\n",
    "    result_df: DATAFRAME\n",
    "        tabla de datos que contiene el número de muertes por año, país y causa. Las columnas están renombradas para facilitar\n",
    "        la elección de una columna en posteriores funciones\n",
    "    '''\n",
    "    try:\n",
    "        result_df = pd.read_csv(annual_deaths_file)\n",
    "        new_cols = [col.split(' - ')[1].strip() if len(col.split('-'))>1 else col.split('-')[0] for col in result_df]\n",
    "        cols = {}\n",
    "        for old_col, new_col in zip(result_df.columns, new_cols):\n",
    "            cols.update({old_col:new_col})\n",
    "        result_df.rename(columns=cols, inplace=True)\n",
    "        result_df.iloc[:,3]=result_df.iloc[:,3].str.replace('>','')\n",
    "        result_df.iloc[:,3]=result_df.iloc[:,3].astype(float)\n",
    "    except Exception as e:\n",
    "        raise e\n",
    "    return result_df"
   ]
  },
  {
   "cell_type": "code",
   "execution_count": 224,
   "metadata": {},
   "outputs": [],
   "source": [
    "deaths = read_annual_deaths(annual_deaths)"
   ]
  },
  {
   "cell_type": "markdown",
   "metadata": {},
   "source": [
    "#### Pruebas del apartado e)\n",
    "Prueba para comprobar que el nuevo nombre de las columnas no tiene el prefijo 'Deaths -' ni el sufijo  '- Sex: Both - Age: All Ages (Number)'"
   ]
  },
  {
   "cell_type": "code",
   "execution_count": 225,
   "metadata": {
    "scrolled": true
   },
   "outputs": [
    {
     "data": {
      "text/plain": [
       "Index(['Entity', 'Code', 'Year',\n",
       "       'Number of executions (Amnesty International)', 'Road injuries',\n",
       "       'Cirrhosis and other chronic liver diseases', 'Digestive diseases',\n",
       "       'Tuberculosis', 'HIV/AIDS', 'Diarrheal diseases',\n",
       "       'Intestinal infectious diseases', 'Lower respiratory infections',\n",
       "       'Meningitis', 'Drowning', 'Alzheimer disease and other dementias',\n",
       "       'Parkinson disease', 'Alcohol use disorders', 'Drug use disorders',\n",
       "       'Malaria', 'Maternal disorders', 'Neonatal disorders',\n",
       "       'Nutritional deficiencies', 'Diabetes mellitus',\n",
       "       'Chronic kidney disease', 'Chronic respiratory diseases',\n",
       "       'Conflict and terrorism', 'Hepatitis', 'Neoplasms',\n",
       "       'Fire, heat, and hot substances', 'Poisonings',\n",
       "       'Exposure to forces of nature', 'Environmental heat and cold exposure',\n",
       "       'Protein-energy malnutrition', 'Cardiovascular diseases', 'Self-harm',\n",
       "       'Interpersonal violence', 'Terrorism (deaths)'],\n",
       "      dtype='object')"
      ]
     },
     "execution_count": 225,
     "metadata": {},
     "output_type": "execute_result"
    }
   ],
   "source": [
    "deaths.columns"
   ]
  },
  {
   "cell_type": "markdown",
   "metadata": {},
   "source": [
    "***"
   ]
  },
  {
   "cell_type": "markdown",
   "metadata": {},
   "source": [
    "### Apartado f)\n",
    "__Diseña una función que, para una causa de muerte (“Road injuries” por ejemplo), calcule las tasas de muerte en un país (“Spain” por ejemplo) y año (2015 por ejemplo), donde una tasa está calculada como el número de muertes por esa causa en ese país y año por cada 10000 habitantes.__"
   ]
  },
  {
   "cell_type": "markdown",
   "metadata": {},
   "source": [
    "Apartado completo"
   ]
  },
  {
   "cell_type": "code",
   "execution_count": 226,
   "metadata": {},
   "outputs": [],
   "source": [
    "def compute_death_rate(deaths_df, population_df, death_cause, countries, year):\n",
    "    \"\"\"\n",
    "    Calcula la tasa de muerte de un país y un año. Se calcula la tasa de muerte por una causa dada. \n",
    "    Explicación más detallada de la función en el fichero de documentación\n",
    "    \n",
    "    Parameters\n",
    "    ----------\n",
    "    deaths_df: DATAFRAME\n",
    "        tabla de datos que contiene el número de muertes por causa, año y país.\n",
    "        Variable deaths calculada en celdas anteriores\n",
    "    population_df: DATAFRAME\n",
    "        tabla de datos que contiene la población por país y año. Variable population calculada en celdas anteriores\n",
    "    death_cause: STR\n",
    "        Causa de la muerte. Tiene que ser un string y una de las columnas del dataframe \n",
    "    countries: LIST (STR)\n",
    "        lista de países de los que se quiere obtener la tasa de muerte. Tiene que ser un string y existir en la columna\n",
    "        'Entity' de deaths_df\n",
    "    year:INT\n",
    "        año del que se quiere obtener la tasa de muerte. Tiene que ser un numero entero y estar entre 0 y 2017\n",
    "    \n",
    "    Returns \n",
    "    ----------\n",
    "    DATAFRAME: tabla de datos con la tasa de muerte\n",
    "    \"\"\"\n",
    "    assert isinstance(countries, list)\n",
    "    assert type(year) is int\n",
    "    assert year > 0\n",
    "    assert type(death_cause) is str\n",
    "    assert death_cause in deaths_df.columns, 'La causa de muerte no se encuentra en la tabla de datos'\n",
    "    result_df = deaths.merge(population, on=['Entity', 'Code', 'Year'], how='inner')\n",
    "    result_df['Death Rate'] = result_df.apply(lambda x: (x[death_cause]/x['Total population (Gapminder, HYDE & UN)'])*10000, axis=1)\n",
    "    death_rate = result_df.loc[(result_df['Entity'].isin(countries)) & (result_df['Year']==year)]\n",
    "    return death_rate.filter(items=['Entity','Death Rate'])"
   ]
  },
  {
   "cell_type": "markdown",
   "metadata": {},
   "source": [
    "#### Pruebas del apartado F)\n"
   ]
  },
  {
   "cell_type": "code",
   "execution_count": 227,
   "metadata": {},
   "outputs": [
    {
     "data": {
      "text/html": [
       "<div>\n",
       "<style scoped>\n",
       "    .dataframe tbody tr th:only-of-type {\n",
       "        vertical-align: middle;\n",
       "    }\n",
       "\n",
       "    .dataframe tbody tr th {\n",
       "        vertical-align: top;\n",
       "    }\n",
       "\n",
       "    .dataframe thead th {\n",
       "        text-align: right;\n",
       "    }\n",
       "</style>\n",
       "<table border=\"1\" class=\"dataframe\">\n",
       "  <thead>\n",
       "    <tr style=\"text-align: right;\">\n",
       "      <th></th>\n",
       "      <th>Entity</th>\n",
       "      <th>Death Rate</th>\n",
       "    </tr>\n",
       "  </thead>\n",
       "  <tbody>\n",
       "    <tr>\n",
       "      <th>4621</th>\n",
       "      <td>Spain</td>\n",
       "      <td>1.563140</td>\n",
       "    </tr>\n",
       "    <tr>\n",
       "      <th>4761</th>\n",
       "      <td>Sweden</td>\n",
       "      <td>0.716569</td>\n",
       "    </tr>\n",
       "  </tbody>\n",
       "</table>\n",
       "</div>"
      ],
      "text/plain": [
       "      Entity  Death Rate\n",
       "4621   Spain    1.563140\n",
       "4761  Sweden    0.716569"
      ]
     },
     "execution_count": 227,
     "metadata": {},
     "output_type": "execute_result"
    }
   ],
   "source": [
    "compute_death_rate(deaths, population, 'Road injuries', ['Spain', 'Sweden'], 2001)"
   ]
  },
  {
   "cell_type": "markdown",
   "metadata": {},
   "source": [
    "***"
   ]
  },
  {
   "cell_type": "markdown",
   "metadata": {},
   "source": [
    "### Apartado g)\n",
    "__Algunas de las funciones anteriores o pequeñas variantes suyas nos resultarán útiles para generar un gráfico adecuado que nos permita comparar la mortalidad por una causa en un año, en una colección de países.__"
   ]
  },
  {
   "cell_type": "markdown",
   "metadata": {},
   "source": [
    "Apartado completo. Las pruebas se generan con la llamada a la función `compute_death_rate()`. En mi caso no he visto necesario generar una nueva función, sino que he generado una expresión en una celda para pintar la gráfica que pide el enunciado"
   ]
  },
  {
   "cell_type": "code",
   "execution_count": 242,
   "metadata": {},
   "outputs": [],
   "source": [
    "death_rate = compute_death_rate(deaths, population, 'Drowning', ['Spain', 'Sweden', 'Austria', 'Afghanistan'], 1994)"
   ]
  },
  {
   "cell_type": "code",
   "execution_count": 243,
   "metadata": {},
   "outputs": [
    {
     "data": {
      "image/png": "[encoded data removed]",
      "text/plain": [
       "<Figure size 720x360 with 1 Axes>"
      ]
     },
     "metadata": {
      "needs_background": "light"
     },
     "output_type": "display_data"
    }
   ],
   "source": [
    "cmap = plt.get_cmap('Dark2')\n",
    "fig_deaths_countries = plt.figure(figsize=(10,5))\n",
    "plt.title('Number of deaths by %s in %s' % ('Drowning', ','.join(countries)))\n",
    "plt.bar(death_rate['Entity'], death_rate['Death Rate'], color=cmap(range(len(countries))), width=0.5)\n",
    "plt.show()"
   ]
  },
  {
   "cell_type": "markdown",
   "metadata": {},
   "source": [
    "***"
   ]
  },
  {
   "cell_type": "markdown",
   "metadata": {},
   "source": [
    "### Apartado h)\n",
    "__Desearíamos saber el total de muertes en un año dado por cada causa. Esto se puede calcular de varias maneras. Te pido ahora que resuelvas este problema con un programa iterativo, que recorre países y va acumulando en un diccionario las cantidades de cada causa.__"
   ]
  },
  {
   "cell_type": "markdown",
   "metadata": {},
   "source": [
    "Apartado completo  "
   ]
  },
  {
   "cell_type": "code",
   "execution_count": 244,
   "metadata": {},
   "outputs": [],
   "source": [
    "def deaths_by_cause(df, in_year):\n",
    "    \"\"\"\n",
    "    Crea un diccionario en el que las claves son los distintos años que aparecen en la columna Year y cuyo valor es la suma \n",
    "    de las muertes por causa dentro de ese año.\n",
    "    En caso de que alguno de los valores de mortalidad por causa sea nulo se suma un cero \n",
    "    \n",
    "    Parameters\n",
    "    ----------\n",
    "    df: STR\n",
    "        Dataframe con la mortalidad por causa, año y país\n",
    "        Variable deaths calculada en celdas anteriores\n",
    "    in_year: INT\n",
    "        año por el que filtrar. Debe ser un entero entre 0 y 2017\n",
    "        \n",
    "    Returns\n",
    "    --------\n",
    "    total_deaths: DICTIONARY{INT:LIST}\n",
    "        diccionario con el numero de muertes por causa en un año determinado\n",
    "    \"\"\"\n",
    "    assert type(in_year) is int, 'El año debe ser un entero'\n",
    "    filtered_year = df.loc[df['Year']==in_year]\n",
    "    total_deaths = {}\n",
    "    for i,row in filtered_year.iterrows():\n",
    "        for index, value in zip(row[3:].index.tolist(), row[3:].values.tolist()):\n",
    "            if index not in total_deaths:\n",
    "                total_deaths[index] = value if value is not np.nan else 0\n",
    "            else:\n",
    "                if math.isnan(value) is False:\n",
    "                    total_deaths[index]+=value \n",
    "    return total_deaths"
   ]
  },
  {
   "cell_type": "markdown",
   "metadata": {},
   "source": [
    "#### Prueba apartado h)"
   ]
  },
  {
   "cell_type": "code",
   "execution_count": 245,
   "metadata": {},
   "outputs": [
    {
     "data": {
      "text/plain": [
       "{'Number of executions (Amnesty International)': 4255.0,\n",
       " 'Road injuries': 5842366.443341265,\n",
       " 'Cirrhosis and other chronic liver diseases': 6011792.180901412,\n",
       " 'Digestive diseases': 10840261.127685152,\n",
       " 'Tuberculosis': 5515010.01166111,\n",
       " 'HIV/AIDS': 5517308.0031886315,\n",
       " 'Diarrheal diseases': 7035844.547199774,\n",
       " 'Intestinal infectious diseases': 660032.2295830955,\n",
       " 'Lower respiratory infections': 12176354.179123508,\n",
       " 'Meningitis': 1402318.6624740595,\n",
       " 'Drowning': 1431129.2422273746,\n",
       " 'Alzheimer disease and other dementias': 11512644.330647472,\n",
       " 'Parkinson disease': 1559240.2264585036,\n",
       " 'Alcohol use disorders': 863027.2862800469,\n",
       " 'Drug use disorders': 717201.2820330941,\n",
       " 'Malaria': 3245224.3464558306,\n",
       " 'Maternal disorders': 917242.3997131583,\n",
       " 'Neonatal disorders': 8729383.95291039,\n",
       " 'Nutritional deficiencies': 1345520.3079594842,\n",
       " 'Diabetes mellitus': 6099272.470838468,\n",
       " 'Chronic kidney disease': 5586455.757327987,\n",
       " 'Chronic respiratory diseases': 17229402.161428332,\n",
       " 'Conflict and terrorism': 565128.256986412,\n",
       " 'Hepatitis': 550590.7607866144,\n",
       " 'Neoplasms': 44426360.44622485,\n",
       " 'Fire, heat, and hot substances': 565596.62717148,\n",
       " 'Poisonings': 359168.9086124401,\n",
       " 'Exposure to forces of nature': 62293.94663328804,\n",
       " 'Environmental heat and cold exposure': 268678.3751458737,\n",
       " 'Protein-energy malnutrition': 1175405.680819602,\n",
       " 'Cardiovascular diseases': 81441308.37227575,\n",
       " 'Self-harm': 3663150.061095864,\n",
       " 'Interpersonal violence': 1926486.430618868,\n",
       " 'Terrorism (deaths)': 116559.0}"
      ]
     },
     "execution_count": 245,
     "metadata": {},
     "output_type": "execute_result"
    }
   ],
   "source": [
    "deaths_by_cause(deaths, 2015)"
   ]
  },
  {
   "cell_type": "markdown",
   "metadata": {},
   "source": [
    "***"
   ]
  },
  {
   "cell_type": "markdown",
   "metadata": {},
   "source": [
    "### Apartado i)\n",
    "__Te pido ahora que resuelvas el ejercicio anterior con la técnica map-reduce.__"
   ]
  },
  {
   "cell_type": "markdown",
   "metadata": {},
   "source": [
    "### Apartado j)\n",
    "__Diseña una colección de funciones que trabajan sucesivamente, cargando los datos, mostrando una parte pequeña de los mismos y, finalmente, generando una tabla como la de la Figura 1.__"
   ]
  },
  {
   "cell_type": "markdown",
   "metadata": {},
   "source": [
    "Para el primero de los pasos, los datos ya han sido cargados en una tabla de datos en el apartado e)  \n",
    "A continuación se muestran las 10 primeras filas de la tabla de datos cargada"
   ]
  },
  {
   "cell_type": "code",
   "execution_count": 68,
   "metadata": {
    "scrolled": true
   },
   "outputs": [
    {
     "data": {
      "text/html": [
       "<div>\n",
       "<style scoped>\n",
       "    .dataframe tbody tr th:only-of-type {\n",
       "        vertical-align: middle;\n",
       "    }\n",
       "\n",
       "    .dataframe tbody tr th {\n",
       "        vertical-align: top;\n",
       "    }\n",
       "\n",
       "    .dataframe thead th {\n",
       "        text-align: right;\n",
       "    }\n",
       "</style>\n",
       "<table border=\"1\" class=\"dataframe\">\n",
       "  <thead>\n",
       "    <tr style=\"text-align: right;\">\n",
       "      <th></th>\n",
       "      <th>Entity</th>\n",
       "      <th>Code</th>\n",
       "      <th>Year</th>\n",
       "      <th>Number of executions (Amnesty International)</th>\n",
       "      <th>Road injuries</th>\n",
       "      <th>Cirrhosis and other chronic liver diseases</th>\n",
       "      <th>Digestive diseases</th>\n",
       "      <th>Tuberculosis</th>\n",
       "      <th>HIV/AIDS</th>\n",
       "      <th>Diarrheal diseases</th>\n",
       "      <th>...</th>\n",
       "      <th>Neoplasms</th>\n",
       "      <th>Fire, heat, and hot substances</th>\n",
       "      <th>Poisonings</th>\n",
       "      <th>Exposure to forces of nature</th>\n",
       "      <th>Environmental heat and cold exposure</th>\n",
       "      <th>Protein-energy malnutrition</th>\n",
       "      <th>Cardiovascular diseases</th>\n",
       "      <th>Self-harm</th>\n",
       "      <th>Interpersonal violence</th>\n",
       "      <th>Terrorism (deaths)</th>\n",
       "    </tr>\n",
       "  </thead>\n",
       "  <tbody>\n",
       "    <tr>\n",
       "      <th>0</th>\n",
       "      <td>Afghanistan</td>\n",
       "      <td>AFG</td>\n",
       "      <td>1990</td>\n",
       "      <td>NaN</td>\n",
       "      <td>4575.180311</td>\n",
       "      <td>1453.044977</td>\n",
       "      <td>3698.889864</td>\n",
       "      <td>4332.690583</td>\n",
       "      <td>32.098129</td>\n",
       "      <td>8817.260208</td>\n",
       "      <td>...</td>\n",
       "      <td>10061.873743</td>\n",
       "      <td>311.776082</td>\n",
       "      <td>170.742286</td>\n",
       "      <td>0.000000</td>\n",
       "      <td>226.789403</td>\n",
       "      <td>1607.703797</td>\n",
       "      <td>46498.085024</td>\n",
       "      <td>740.448500</td>\n",
       "      <td>1279.945985</td>\n",
       "      <td>12.0</td>\n",
       "    </tr>\n",
       "    <tr>\n",
       "      <th>1</th>\n",
       "      <td>Afghanistan</td>\n",
       "      <td>AFG</td>\n",
       "      <td>1991</td>\n",
       "      <td>NaN</td>\n",
       "      <td>4762.068567</td>\n",
       "      <td>1468.860745</td>\n",
       "      <td>3743.187336</td>\n",
       "      <td>4288.640464</td>\n",
       "      <td>37.524158</td>\n",
       "      <td>8588.463794</td>\n",
       "      <td>...</td>\n",
       "      <td>10171.333511</td>\n",
       "      <td>311.500538</td>\n",
       "      <td>172.032657</td>\n",
       "      <td>1349.999434</td>\n",
       "      <td>164.830417</td>\n",
       "      <td>1558.132316</td>\n",
       "      <td>46967.361037</td>\n",
       "      <td>762.245179</td>\n",
       "      <td>1524.641593</td>\n",
       "      <td>68.0</td>\n",
       "    </tr>\n",
       "    <tr>\n",
       "      <th>2</th>\n",
       "      <td>Afghanistan</td>\n",
       "      <td>AFG</td>\n",
       "      <td>1992</td>\n",
       "      <td>NaN</td>\n",
       "      <td>5531.136933</td>\n",
       "      <td>1524.528468</td>\n",
       "      <td>3894.366133</td>\n",
       "      <td>4475.257542</td>\n",
       "      <td>50.670559</td>\n",
       "      <td>8924.932420</td>\n",
       "      <td>...</td>\n",
       "      <td>10592.367581</td>\n",
       "      <td>338.614263</td>\n",
       "      <td>190.404111</td>\n",
       "      <td>614.000083</td>\n",
       "      <td>92.522183</td>\n",
       "      <td>1617.721576</td>\n",
       "      <td>48355.558515</td>\n",
       "      <td>856.912927</td>\n",
       "      <td>1684.808857</td>\n",
       "      <td>49.0</td>\n",
       "    </tr>\n",
       "    <tr>\n",
       "      <th>3</th>\n",
       "      <td>Afghanistan</td>\n",
       "      <td>AFG</td>\n",
       "      <td>1993</td>\n",
       "      <td>NaN</td>\n",
       "      <td>6613.963510</td>\n",
       "      <td>1598.643747</td>\n",
       "      <td>4136.479100</td>\n",
       "      <td>4909.050325</td>\n",
       "      <td>58.433049</td>\n",
       "      <td>11976.501319</td>\n",
       "      <td>...</td>\n",
       "      <td>11126.644646</td>\n",
       "      <td>382.401317</td>\n",
       "      <td>217.622614</td>\n",
       "      <td>109.999998</td>\n",
       "      <td>104.167461</td>\n",
       "      <td>1931.808553</td>\n",
       "      <td>50072.563899</td>\n",
       "      <td>975.603772</td>\n",
       "      <td>1906.959925</td>\n",
       "      <td>NaN</td>\n",
       "    </tr>\n",
       "    <tr>\n",
       "      <th>4</th>\n",
       "      <td>Afghanistan</td>\n",
       "      <td>AFG</td>\n",
       "      <td>1994</td>\n",
       "      <td>NaN</td>\n",
       "      <td>7341.204565</td>\n",
       "      <td>1649.977411</td>\n",
       "      <td>4318.692618</td>\n",
       "      <td>5352.634058</td>\n",
       "      <td>65.531176</td>\n",
       "      <td>13296.448475</td>\n",
       "      <td>...</td>\n",
       "      <td>11477.937575</td>\n",
       "      <td>417.717979</td>\n",
       "      <td>236.240573</td>\n",
       "      <td>160.000003</td>\n",
       "      <td>112.072652</td>\n",
       "      <td>2351.629206</td>\n",
       "      <td>51416.815442</td>\n",
       "      <td>1028.742412</td>\n",
       "      <td>2229.924043</td>\n",
       "      <td>22.0</td>\n",
       "    </tr>\n",
       "    <tr>\n",
       "      <th>5</th>\n",
       "      <td>Afghanistan</td>\n",
       "      <td>AFG</td>\n",
       "      <td>1995</td>\n",
       "      <td>NaN</td>\n",
       "      <td>7936.178185</td>\n",
       "      <td>1690.717095</td>\n",
       "      <td>4436.973375</td>\n",
       "      <td>5536.274369</td>\n",
       "      <td>72.735404</td>\n",
       "      <td>14767.431175</td>\n",
       "      <td>...</td>\n",
       "      <td>11711.273936</td>\n",
       "      <td>447.362217</td>\n",
       "      <td>249.757440</td>\n",
       "      <td>380.999985</td>\n",
       "      <td>118.013587</td>\n",
       "      <td>2507.115188</td>\n",
       "      <td>52072.368671</td>\n",
       "      <td>1065.582016</td>\n",
       "      <td>2325.997879</td>\n",
       "      <td>5.0</td>\n",
       "    </tr>\n",
       "    <tr>\n",
       "      <th>6</th>\n",
       "      <td>Afghanistan</td>\n",
       "      <td>AFG</td>\n",
       "      <td>1996</td>\n",
       "      <td>NaN</td>\n",
       "      <td>8270.543843</td>\n",
       "      <td>1716.645566</td>\n",
       "      <td>4510.381672</td>\n",
       "      <td>5560.655853</td>\n",
       "      <td>78.533651</td>\n",
       "      <td>14153.892087</td>\n",
       "      <td>...</td>\n",
       "      <td>11898.875427</td>\n",
       "      <td>458.002488</td>\n",
       "      <td>255.847563</td>\n",
       "      <td>69.999999</td>\n",
       "      <td>122.193282</td>\n",
       "      <td>2468.615820</td>\n",
       "      <td>52795.718158</td>\n",
       "      <td>1099.003806</td>\n",
       "      <td>2626.043189</td>\n",
       "      <td>31.0</td>\n",
       "    </tr>\n",
       "    <tr>\n",
       "      <th>7</th>\n",
       "      <td>Afghanistan</td>\n",
       "      <td>AFG</td>\n",
       "      <td>1997</td>\n",
       "      <td>NaN</td>\n",
       "      <td>8349.815930</td>\n",
       "      <td>1746.918412</td>\n",
       "      <td>4591.336368</td>\n",
       "      <td>5605.857165</td>\n",
       "      <td>83.752944</td>\n",
       "      <td>14351.353886</td>\n",
       "      <td>...</td>\n",
       "      <td>12109.522390</td>\n",
       "      <td>469.227613</td>\n",
       "      <td>262.027243</td>\n",
       "      <td>174.999985</td>\n",
       "      <td>127.044325</td>\n",
       "      <td>2451.122257</td>\n",
       "      <td>53512.784374</td>\n",
       "      <td>1133.020009</td>\n",
       "      <td>2394.441220</td>\n",
       "      <td>4.0</td>\n",
       "    </tr>\n",
       "    <tr>\n",
       "      <th>8</th>\n",
       "      <td>Afghanistan</td>\n",
       "      <td>AFG</td>\n",
       "      <td>1998</td>\n",
       "      <td>NaN</td>\n",
       "      <td>8300.970845</td>\n",
       "      <td>1768.987713</td>\n",
       "      <td>4646.843937</td>\n",
       "      <td>5584.296859</td>\n",
       "      <td>88.028383</td>\n",
       "      <td>14118.468804</td>\n",
       "      <td>...</td>\n",
       "      <td>12283.506788</td>\n",
       "      <td>474.351542</td>\n",
       "      <td>264.483854</td>\n",
       "      <td>7122.995478</td>\n",
       "      <td>130.426196</td>\n",
       "      <td>2390.544168</td>\n",
       "      <td>54063.861710</td>\n",
       "      <td>1160.633930</td>\n",
       "      <td>2577.706477</td>\n",
       "      <td>8.0</td>\n",
       "    </tr>\n",
       "    <tr>\n",
       "      <th>9</th>\n",
       "      <td>Afghanistan</td>\n",
       "      <td>AFG</td>\n",
       "      <td>1999</td>\n",
       "      <td>NaN</td>\n",
       "      <td>8006.464177</td>\n",
       "      <td>1770.085804</td>\n",
       "      <td>4658.561314</td>\n",
       "      <td>5483.224732</td>\n",
       "      <td>87.154703</td>\n",
       "      <td>13950.167626</td>\n",
       "      <td>...</td>\n",
       "      <td>12435.458669</td>\n",
       "      <td>469.032725</td>\n",
       "      <td>261.681129</td>\n",
       "      <td>70.000000</td>\n",
       "      <td>132.223075</td>\n",
       "      <td>2293.901006</td>\n",
       "      <td>54368.996167</td>\n",
       "      <td>1162.147866</td>\n",
       "      <td>2459.186742</td>\n",
       "      <td>39.0</td>\n",
       "    </tr>\n",
       "  </tbody>\n",
       "</table>\n",
       "<p>10 rows × 37 columns</p>\n",
       "</div>"
      ],
      "text/plain": [
       "        Entity Code  Year  Number of executions (Amnesty International)  \\\n",
       "0  Afghanistan  AFG  1990                                           NaN   \n",
       "1  Afghanistan  AFG  1991                                           NaN   \n",
       "2  Afghanistan  AFG  1992                                           NaN   \n",
       "3  Afghanistan  AFG  1993                                           NaN   \n",
       "4  Afghanistan  AFG  1994                                           NaN   \n",
       "5  Afghanistan  AFG  1995                                           NaN   \n",
       "6  Afghanistan  AFG  1996                                           NaN   \n",
       "7  Afghanistan  AFG  1997                                           NaN   \n",
       "8  Afghanistan  AFG  1998                                           NaN   \n",
       "9  Afghanistan  AFG  1999                                           NaN   \n",
       "\n",
       "   Road injuries  Cirrhosis and other chronic liver diseases  \\\n",
       "0    4575.180311                                 1453.044977   \n",
       "1    4762.068567                                 1468.860745   \n",
       "2    5531.136933                                 1524.528468   \n",
       "3    6613.963510                                 1598.643747   \n",
       "4    7341.204565                                 1649.977411   \n",
       "5    7936.178185                                 1690.717095   \n",
       "6    8270.543843                                 1716.645566   \n",
       "7    8349.815930                                 1746.918412   \n",
       "8    8300.970845                                 1768.987713   \n",
       "9    8006.464177                                 1770.085804   \n",
       "\n",
       "   Digestive diseases  Tuberculosis   HIV/AIDS  Diarrheal diseases  ...  \\\n",
       "0         3698.889864   4332.690583  32.098129         8817.260208  ...   \n",
       "1         3743.187336   4288.640464  37.524158         8588.463794  ...   \n",
       "2         3894.366133   4475.257542  50.670559         8924.932420  ...   \n",
       "3         4136.479100   4909.050325  58.433049        11976.501319  ...   \n",
       "4         4318.692618   5352.634058  65.531176        13296.448475  ...   \n",
       "5         4436.973375   5536.274369  72.735404        14767.431175  ...   \n",
       "6         4510.381672   5560.655853  78.533651        14153.892087  ...   \n",
       "7         4591.336368   5605.857165  83.752944        14351.353886  ...   \n",
       "8         4646.843937   5584.296859  88.028383        14118.468804  ...   \n",
       "9         4658.561314   5483.224732  87.154703        13950.167626  ...   \n",
       "\n",
       "      Neoplasms  Fire, heat, and hot substances  Poisonings  \\\n",
       "0  10061.873743                      311.776082  170.742286   \n",
       "1  10171.333511                      311.500538  172.032657   \n",
       "2  10592.367581                      338.614263  190.404111   \n",
       "3  11126.644646                      382.401317  217.622614   \n",
       "4  11477.937575                      417.717979  236.240573   \n",
       "5  11711.273936                      447.362217  249.757440   \n",
       "6  11898.875427                      458.002488  255.847563   \n",
       "7  12109.522390                      469.227613  262.027243   \n",
       "8  12283.506788                      474.351542  264.483854   \n",
       "9  12435.458669                      469.032725  261.681129   \n",
       "\n",
       "   Exposure to forces of nature  Environmental heat and cold exposure  \\\n",
       "0                      0.000000                            226.789403   \n",
       "1                   1349.999434                            164.830417   \n",
       "2                    614.000083                             92.522183   \n",
       "3                    109.999998                            104.167461   \n",
       "4                    160.000003                            112.072652   \n",
       "5                    380.999985                            118.013587   \n",
       "6                     69.999999                            122.193282   \n",
       "7                    174.999985                            127.044325   \n",
       "8                   7122.995478                            130.426196   \n",
       "9                     70.000000                            132.223075   \n",
       "\n",
       "   Protein-energy malnutrition  Cardiovascular diseases    Self-harm  \\\n",
       "0                  1607.703797             46498.085024   740.448500   \n",
       "1                  1558.132316             46967.361037   762.245179   \n",
       "2                  1617.721576             48355.558515   856.912927   \n",
       "3                  1931.808553             50072.563899   975.603772   \n",
       "4                  2351.629206             51416.815442  1028.742412   \n",
       "5                  2507.115188             52072.368671  1065.582016   \n",
       "6                  2468.615820             52795.718158  1099.003806   \n",
       "7                  2451.122257             53512.784374  1133.020009   \n",
       "8                  2390.544168             54063.861710  1160.633930   \n",
       "9                  2293.901006             54368.996167  1162.147866   \n",
       "\n",
       "   Interpersonal violence  Terrorism (deaths)  \n",
       "0             1279.945985                12.0  \n",
       "1             1524.641593                68.0  \n",
       "2             1684.808857                49.0  \n",
       "3             1906.959925                 NaN  \n",
       "4             2229.924043                22.0  \n",
       "5             2325.997879                 5.0  \n",
       "6             2626.043189                31.0  \n",
       "7             2394.441220                 4.0  \n",
       "8             2577.706477                 8.0  \n",
       "9             2459.186742                39.0  \n",
       "\n",
       "[10 rows x 37 columns]"
      ]
     },
     "execution_count": 68,
     "metadata": {},
     "output_type": "execute_result"
    }
   ],
   "source": [
    "deaths.head(10)"
   ]
  },
  {
   "cell_type": "markdown",
   "metadata": {},
   "source": [
    "Para crear el gráfico de la `Figura 1` es necesario filtrar el dataframe tanto en la columna `Year` por el año 2017 como en la columna `Entity` por la columna `World`. Para poder pintar de una manera limpia los gráficos reseteo el indice del dataframe y resultante y me quedo con las columnas que corresponden a las causas de muerte (obviando así las columnas `Entity, Code, Year`.\n",
    "El resultado es ordenado por indice de manera descendente "
   ]
  },
  {
   "cell_type": "code",
   "execution_count": 246,
   "metadata": {},
   "outputs": [],
   "source": [
    "def filter_and_order(df):\n",
    "    \"\"\"\n",
    "    Genera la gráfica de la Figura1 del pdf de los enunciados.\n",
    "    Filtra por el año 2017 y el valor 'World' de la columna 'Entity' del dataframe de mortalidad y ordena por indice\n",
    "    \n",
    "    Parameters\n",
    "    ----------\n",
    "    df: DATAFRAME\n",
    "        tabla de datos con el numero de muertes por causa, país y año. Variable deaths calculada en celdas anteriores\n",
    "\n",
    "    Returns\n",
    "    ----------\n",
    "    res: DATAFRAME\n",
    "        tabla de datos con una sola linea y con las distintas causas de muerte como columnas. Los valores son los datos\n",
    "        de mortalidad por causa y estan ordenados de mayor a menor\n",
    "    \"\"\"\n",
    "    res = df.loc[(df['Year']==2017) & (df['Entity']=='World')].reset_index(drop=True).iloc[:,3:]\n",
    "    res.sort_values(by=0, axis=1, ascending=False, inplace=True)\n",
    "    return res"
   ]
  },
  {
   "cell_type": "code",
   "execution_count": 247,
   "metadata": {},
   "outputs": [],
   "source": [
    "def human_format(num):\n",
    "    \"\"\"\n",
    "    Funcion auxiliar creada para realizar un formateo de las etiquetas de datos que se plasman en el gráfico. \n",
    "    Ejemplo: 1.000.000 se formateará como 1 million; 5.000 se formateará como 5K\n",
    "\n",
    "    Parameters\n",
    "    ----------\n",
    "    num: INT\n",
    "        numero de entrada a formatear\n",
    "\n",
    "    Returns\n",
    "    --------\n",
    "    INT: numero formateado\n",
    "    \"\"\"\n",
    "    magnitude = 0\n",
    "    while abs(num) >= 1000:\n",
    "        magnitude += 1\n",
    "        num /= 1000.0\n",
    "    # add more suffixes if you need them\n",
    "    return '%.3f%s' % (num, ['', ' K', ' million'][magnitude])"
   ]
  },
  {
   "cell_type": "code",
   "execution_count": 248,
   "metadata": {},
   "outputs": [],
   "source": [
    "def plot_fig1(df):\n",
    "    \"\"\"\n",
    "    Funcion principal que pinta el gráfico en una barra horizontal. Se declara un mapa de colores de matplotlib para elegir\n",
    "    los distintos colores de las barras. Para poder pintar las columnas de la tabla de datos como eje de ordenadas se realiza\n",
    "    un match entre la variable y_values y los nombres de estas columnas. Este match está programado con plt.yticks()\n",
    "    Por último para \n",
    "    Parameters\n",
    "    ----------\n",
    "    df: DATAFRAME\n",
    "        tabla de datos con el numero de muertes por causa, país y año. Variable deaths calculada en celdas anteriores\n",
    "\n",
    "    Returns\n",
    "    --------\n",
    "    None\n",
    "    \"\"\"\n",
    "    cmap= plt.get_cmap(\"Dark2\")\n",
    "    fig= plt.figure(figsize=(22,10))\n",
    "    num_ycols = len(df.iloc[0,:].index)\n",
    "    \n",
    "    y_values = [i for i in reversed(range(num_ycols))]\n",
    "    x_values = df.iloc[0,:].values\n",
    "    \n",
    "    plt.yticks(y_values, df.iloc[0,:].index.values)\n",
    "    plt.title('Number of deaths by cause, 2017')\n",
    "    plt.barh(y_values,x_values, color=cmap(np.arange(8)))\n",
    "    \n",
    "    for y,x in zip(y_values,x_values):\n",
    "        label = human_format(x)\n",
    "        plt.annotate(label, (x,y), textcoords=\"offset points\",xytext=(35,0), ha='center') \n",
    "    plt.show()"
   ]
  },
  {
   "cell_type": "markdown",
   "metadata": {},
   "source": [
    "#### Prueba apartado j)\n",
    "Dibuja la gráfica con los resultados de la función `filter_and_order()`"
   ]
  },
  {
   "cell_type": "code",
   "execution_count": 251,
   "metadata": {},
   "outputs": [
    {
     "data": {
      "image/png": "[encoded data removed]",
      "text/plain": [
       "<Figure size 1584x720 with 1 Axes>"
      ]
     },
     "metadata": {
      "needs_background": "light"
     },
     "output_type": "display_data"
    }
   ],
   "source": [
    "plot_fig1(filter_and_order(deaths))"
   ]
  },
  {
   "cell_type": "markdown",
   "metadata": {},
   "source": [
    "### Apartado k)\n",
    "__Versión más ambiciosa: comparando la tasa de los datos mundiales con la de un país (cantidades por millón de habitantes mundial y del país, en el año elegido)__  \n",
    "Considero que este apartado está resuelto en su totalidad desde mi entendimiento del ejercicio. Las funciones generan una tabla de datos filtrada por año y país y se calcula la tasa de mortalidad por millón de habitantes utilizando el dataframe de la población creado anteriormente.  \n",
    "Por último, se genera un gráfico con una escala logarítmica en el eje x para que los datos sean apreciables"
   ]
  },
  {
   "cell_type": "code",
   "execution_count": 252,
   "metadata": {},
   "outputs": [],
   "source": [
    "def get_deaths_country_year(deaths_df, pop_df, country, year):\n",
    "    \"\"\"\n",
    "    Genera una tabla de datos con la tasa de mortalidad por causa, país y año. Después filtra por año y país pasados\n",
    "    por parametro. Ordena de mayor a menor los datos por filas\n",
    "    \n",
    "    Parameters\n",
    "    ----------\n",
    "    deaths_df: DATAFRAME\n",
    "        tabla de datos cargada anteriormente que corresponde al numero de muertes por causa, país y año. \n",
    "        Variable deaths calculada en celdas anteriores\n",
    "    pop_df: DATAFRAME\n",
    "        tabla de datos cargada anteriormente que corresponde a la población de un país por año. \n",
    "        Variable population calculada en celdas anteriores\n",
    "    country: STR \n",
    "        nombre del país del que se quieren obtener los datos. \n",
    "        Debe ser un string y estar dentro de la columna 'Entity' de pop_df\n",
    "    year: INT\n",
    "        año para el que se quieren obtener los datos. Deber ser un número entero entre 0 y 2017\n",
    "\n",
    "    Returns\n",
    "    ----------\n",
    "    country_data: DATAFRAME\n",
    "        tabla de datos con una sola linea y con las distintas causas de muerte como columnas. Los valores son los datos\n",
    "        de mortalidad por causa para el país pasado como argumento y estan ordenados de mayor a menor\n",
    "    \n",
    "    world_data: DATAFRAME\n",
    "        tabla de datos con una sola linea y con las distintas causas de muerte como columnas. Los valores son los datos\n",
    "        de mortalidad por causa para los datos mundiales y estan ordenados de mayor a menor\n",
    "    \"\"\"\n",
    "    assert type(year) is int, 'El año debe ser un número'\n",
    "    assert type(country) is str, 'El pais debe ser un string'\n",
    "    merged_df = deaths_df.merge(pop_df, on=['Entity', 'Code', 'Year'], how='inner')\n",
    "    res = merged_df.loc[(merged_df['Year']==year) & (merged_df['Entity'].isin(['World', country]))].reset_index(drop=True)\n",
    "    \n",
    "    res.iloc[:,3:]= res.iloc[:,3:].div(res['Total population (Gapminder, HYDE & UN)'], axis=0)*1e6\n",
    "    res.drop(['Total population (Gapminder, HYDE & UN)'], axis=1, inplace=True)\n",
    "    \n",
    "    country_data = res.loc[res['Entity']==country].iloc[:,3:].reset_index(drop=True)\n",
    "    world_data = res.loc[res['Entity']=='World'].iloc[:,3:].reset_index(drop=True)\n",
    "    \n",
    "    country_data.sort_values(by=0, axis=1, ascending=False, inplace=True)\n",
    "    world_data.sort_values(by=0, axis=1, ascending=False, inplace=True)\n",
    "\n",
    "    return country_data, world_data"
   ]
  },
  {
   "cell_type": "code",
   "execution_count": 255,
   "metadata": {},
   "outputs": [],
   "source": [
    "def plot_death_rate(df_world, df_country):\n",
    "    \"\"\"\n",
    "    Funcion principal que pinta el gráfico en dos barras horizontales.  \n",
    "    Para poder pintar las columnas de la tabla de datos como eje de ordenadas se realiza\n",
    "    un match entre la variable y_values y los nombres de estas columnas. Este match está programado con plt.yticks()\n",
    "    Por último para que los datos se aprecien mejor se presenta el eje de abscisas en escala logarítmica \n",
    "    \n",
    "    Parameters\n",
    "    ----------\n",
    "    df_world: DATAFRAME\n",
    "        tabla de datos filtrada que corresponde a la tasa de mortalidad mundial por causa. Debe ser la segunda\n",
    "        de las variables que devuelve la funcion get_deaths_country_year()\n",
    "        \n",
    "    df_country: DATAFRAME\n",
    "        tabla de datos filtrada que corresponde a la tasa de mortalidad de un pais elegido anteriormente por causa. \n",
    "        Debe ser la primera de las variables que devuelve la funcion get_deaths_country_year()\n",
    "\n",
    "    Returns\n",
    "    --------\n",
    "    None\n",
    "    \"\"\"\n",
    "    fig = plt.figure(figsize=(22,15))\n",
    "    \n",
    "    num_ycols = len(df_world.iloc[0,:].index)\n",
    "    y_values = [i for i in reversed(range(num_ycols))]\n",
    "    \n",
    "    xc_values = df_country.iloc[0,:].values\n",
    "    xw_values = df_world.iloc[0,:].values\n",
    "    bar_size = 0.4\n",
    "    plt.yticks(y_values, df_world.iloc[0,:].index.values)\n",
    "    plt.title('Number of deaths by cause')\n",
    "    plt.barh(y_values,xc_values, height=0.4, color='turquoise', edgecolor='black', label='Country data')\n",
    "    plt.barh([val+bar_size for val in y_values],xw_values, height=0.4, color='coral', edgecolor='black', label='World data')\n",
    "    fig.tight_layout()\n",
    "    plt.xscale('log')\n",
    "    plt.legend() \n",
    "    plt.show()"
   ]
  },
  {
   "cell_type": "markdown",
   "metadata": {},
   "source": [
    "#### Prueba del apartado k.3)"
   ]
  },
  {
   "cell_type": "code",
   "execution_count": 257,
   "metadata": {},
   "outputs": [],
   "source": [
    "country, world = get_deaths_country_year(deaths, population, 'Belgium', 2004)"
   ]
  },
  {
   "cell_type": "code",
   "execution_count": 259,
   "metadata": {},
   "outputs": [
    {
     "data": {
      "image/png": "[encoded data removed]",
      "text/plain": [
       "<Figure size 1584x1080 with 1 Axes>"
      ]
     },
     "metadata": {
      "needs_background": "light"
     },
     "output_type": "display_data"
    }
   ],
   "source": [
    "plot_death_rate(world, country)"
   ]
  },
  {
   "cell_type": "markdown",
   "metadata": {},
   "source": [
    "### Datos personales\n",
    "\n",
    "-   **Apellidos:** Criado González\n",
    "-   **Nombre:** Marta\n",
    "-   **Email:** martacriado_90@hotmail.com\n",
    "-   **Fecha:** 13 de Octubre 2020\n",
    "\n",
    "<hr>\n",
    "\n",
    "### Ficha de autoevaluación\n",
    "\n",
    "**Comentarios**: Los comentarios adicionales al notebook y las ayudas y fuentes están en el archivo `documentacionProyecto.pdf`\n",
    "\n",
    "|Apartado|Calificación|Comentario|\n",
    "|-|-|-|\n",
    "|a) |1.5 / 1.5  |Completamente resuelto |\n",
    "|b) |1.5 / 1.5 |Completamente resuelto |\n",
    "|c) |1.5 / 1.5  |Completamente resuelto |\n",
    "|d) |1.5 / 1.5  |Completamente resuelto |\n",
    "|e) |1.5 / 1.5  |Completamente resuelto |\n",
    "|f) |0.5 / 0.5  |Completamente resuelto |\n",
    "|g) |0.5 / 0.5  |Completamente resuelto |\n",
    "|h) |0.5 / 0.5  |Completamente resuelto |\n",
    "|i) |0.3 / 0.5  |Tengo dudas sobre el entendimiento del ejercicio |\n",
    "|j) |0.3 / 0.4  |La gráfica no es exactamente la misma que la Figura 1 por la escala del eje x |\n",
    "|k) |0.05 / 0.1 |Resuelto a medias |\n",
    "|**Total** |**9.65** / 10.0|**Notable**|\n",
    "\n",
    "\n",
    "**Nota**: La valoración de cada apartado será la siguiente:\n",
    "\n",
    "- Apartados a, b, c, d, e: 1.5 puntos\n",
    "- Apartados f, g, h, i: 0.5 puntos\n",
    "- Apartado j: 0.4 puntos\n",
    "- Apartado k: 0.1 puntos\n"
   ]
  },
  {
   "cell_type": "code",
   "execution_count": null,
   "metadata": {},
   "outputs": [],
   "source": []
  }
 ],
 "metadata": {
  "kernelspec": {
   "display_name": "Python 3",
   "language": "python",
   "name": "python3"
  },
  "language_info": {
   "codemirror_mode": {
    "name": "ipython",
    "version": 3
   },
   "file_extension": ".py",
   "mimetype": "text/x-python",
   "name": "python",
   "nbconvert_exporter": "python",
   "pygments_lexer": "ipython3",
   "version": "3.6.10"
  }
 },
 "nbformat": 4,
 "nbformat_minor": 2
}
