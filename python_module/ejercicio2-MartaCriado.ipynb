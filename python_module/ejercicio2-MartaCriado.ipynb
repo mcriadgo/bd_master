{
 "cells": [
  {
   "cell_type": "code",
   "execution_count": 1,
   "metadata": {},
   "outputs": [],
   "source": [
    "\"\"\" Cualquier librería adicional que necesiteis durante el ejercicio, importadlo en esta sección \"\"\"\n",
    "\n",
    "import pandas as pd\n",
    "import numpy as np\n",
    "import matplotlib.pyplot as plt\n",
    "import seaborn as sns\n",
    "import warnings\n",
    "\n",
    "sns.set_style('darkgrid')\n",
    "np.set_printoptions(precision=2)\n",
    "warnings.filterwarnings(\"ignore\")\n",
    "\n",
    "from sklearn.preprocessing import MinMaxScaler, StandardScaler, Normalizer, Binarizer, RobustScaler\n",
    "from sklearn.compose import ColumnTransformer\n",
    "from sklearn.preprocessing import OneHotEncoder, LabelEncoder, PowerTransformer\n",
    "from sklearn.impute import SimpleImputer, KNNImputer\n",
    "\n",
    "from sklearn.feature_selection import SelectKBest, chi2, RFE\n",
    "from sklearn.model_selection import train_test_split\n",
    "from sklearn.pipeline import make_pipeline, Pipeline\n",
    "from sklearn.decomposition import PCA\n",
    "\n",
    "from sklearn.linear_model import LogisticRegression\n",
    "from sklearn.tree import DecisionTreeClassifier\n",
    "from sklearn.neighbors import KNeighborsClassifier\n",
    "from sklearn.discriminant_analysis import LinearDiscriminantAnalysis\n",
    "from sklearn.naive_bayes import GaussianNB\n",
    "from sklearn.ensemble import RandomForestClassifier, ExtraTreesClassifier\n",
    "from sklearn.svm import SVC\n",
    "\n",
    "from sklearn.metrics import accuracy_score, confusion_matrix, classification_report, f1_score\n",
    "\n",
    "from sklearn.model_selection import KFold, ShuffleSplit, LeaveOneOut, StratifiedKFold\n",
    "from sklearn.model_selection import cross_val_score, cross_val_predict\n",
    "from sklearn.model_selection import GridSearchCV, RandomizedSearchCV"
   ]
  },
  {
   "cell_type": "markdown",
   "metadata": {},
   "source": [
    "# Ejercicio 2\n",
    "\n",
    "Este ejercicio pretende poner en práctica la habilidad de limpiar datos y visualizar plots en para crear finalmente modelos en __sklearn__.\n",
    "\n",
    "El estudiante tendrá que repasar los comandos realizados en clase y lidiar con posibles errores durante el desarrollo. \n",
    "\n",
    "Para facilitar y agilizar el desarrollo, el estudiante tendrá que rellenar los huecos marcados como '_# codigo-alumno_'. No obstante, si además el estudiante necesita ejecutar código adicional, siempre podrá utilizar cualquier celda adicional. \n",
    "\n",
    "El estudiante tendrá siempre que introducir una semilla (seed) que generará acorde a su fecha de nacimiento (sin ser intrusivos en edad).\n",
    "\n",
    "Finalmente, la entrega será un fichero .ipynb cambiando nombre y apellido al fichero."
   ]
  },
  {
   "cell_type": "code",
   "execution_count": 2,
   "metadata": {},
   "outputs": [],
   "source": [
    "\"\"\" El estudiante tendrá que utilizar la semilla proporcionada para todos los procesos aleatorios \"\"\"\n",
    "\n",
    "seed = 40"
   ]
  },
  {
   "cell_type": "markdown",
   "metadata": {},
   "source": [
    "### Data cleansing"
   ]
  },
  {
   "cell_type": "code",
   "execution_count": 18,
   "metadata": {},
   "outputs": [
    {
     "data": {
      "text/html": [
       "<div>\n",
       "<style scoped>\n",
       "    .dataframe tbody tr th:only-of-type {\n",
       "        vertical-align: middle;\n",
       "    }\n",
       "\n",
       "    .dataframe tbody tr th {\n",
       "        vertical-align: top;\n",
       "    }\n",
       "\n",
       "    .dataframe thead th {\n",
       "        text-align: right;\n",
       "    }\n",
       "</style>\n",
       "<table border=\"1\" class=\"dataframe\">\n",
       "  <thead>\n",
       "    <tr style=\"text-align: right;\">\n",
       "      <th></th>\n",
       "      <th>duration</th>\n",
       "      <th>protocol_type</th>\n",
       "      <th>service</th>\n",
       "      <th>flag</th>\n",
       "      <th>src_bytes</th>\n",
       "      <th>dst_bytes</th>\n",
       "      <th>land</th>\n",
       "      <th>wrong_fragment</th>\n",
       "      <th>urgent</th>\n",
       "      <th>hot</th>\n",
       "      <th>...</th>\n",
       "      <th>dst_host_srv_count</th>\n",
       "      <th>dst_host_same_srv_rate</th>\n",
       "      <th>dst_host_diff_srv_rate</th>\n",
       "      <th>dst_host_same_src_port_rate</th>\n",
       "      <th>dst_host_srv_diff_host_rate</th>\n",
       "      <th>dst_host_serror_rate</th>\n",
       "      <th>dst_host_srv_serror_rate</th>\n",
       "      <th>dst_host_rerror_rate</th>\n",
       "      <th>dst_host_srv_rerror_rate</th>\n",
       "      <th>labels</th>\n",
       "    </tr>\n",
       "  </thead>\n",
       "  <tbody>\n",
       "    <tr>\n",
       "      <th>0</th>\n",
       "      <td>0</td>\n",
       "      <td>b'tcp'</td>\n",
       "      <td>b'http'</td>\n",
       "      <td>b'SF'</td>\n",
       "      <td>181</td>\n",
       "      <td>5450</td>\n",
       "      <td>0</td>\n",
       "      <td>0</td>\n",
       "      <td>0</td>\n",
       "      <td>0</td>\n",
       "      <td>...</td>\n",
       "      <td>9</td>\n",
       "      <td>1</td>\n",
       "      <td>0</td>\n",
       "      <td>0.11</td>\n",
       "      <td>0</td>\n",
       "      <td>0</td>\n",
       "      <td>0</td>\n",
       "      <td>0</td>\n",
       "      <td>0</td>\n",
       "      <td>b'normal.'</td>\n",
       "    </tr>\n",
       "    <tr>\n",
       "      <th>1</th>\n",
       "      <td>0</td>\n",
       "      <td>b'tcp'</td>\n",
       "      <td>b'http'</td>\n",
       "      <td>b'SF'</td>\n",
       "      <td>239</td>\n",
       "      <td>486</td>\n",
       "      <td>0</td>\n",
       "      <td>0</td>\n",
       "      <td>0</td>\n",
       "      <td>0</td>\n",
       "      <td>...</td>\n",
       "      <td>19</td>\n",
       "      <td>1</td>\n",
       "      <td>0</td>\n",
       "      <td>0.05</td>\n",
       "      <td>0</td>\n",
       "      <td>0</td>\n",
       "      <td>0</td>\n",
       "      <td>0</td>\n",
       "      <td>0</td>\n",
       "      <td>b'normal.'</td>\n",
       "    </tr>\n",
       "    <tr>\n",
       "      <th>2</th>\n",
       "      <td>0</td>\n",
       "      <td>b'tcp'</td>\n",
       "      <td>b'http'</td>\n",
       "      <td>b'SF'</td>\n",
       "      <td>235</td>\n",
       "      <td>1337</td>\n",
       "      <td>0</td>\n",
       "      <td>0</td>\n",
       "      <td>0</td>\n",
       "      <td>0</td>\n",
       "      <td>...</td>\n",
       "      <td>29</td>\n",
       "      <td>1</td>\n",
       "      <td>0</td>\n",
       "      <td>0.03</td>\n",
       "      <td>0</td>\n",
       "      <td>0</td>\n",
       "      <td>0</td>\n",
       "      <td>0</td>\n",
       "      <td>0</td>\n",
       "      <td>b'normal.'</td>\n",
       "    </tr>\n",
       "    <tr>\n",
       "      <th>3</th>\n",
       "      <td>0</td>\n",
       "      <td>b'tcp'</td>\n",
       "      <td>b'http'</td>\n",
       "      <td>b'SF'</td>\n",
       "      <td>219</td>\n",
       "      <td>1337</td>\n",
       "      <td>0</td>\n",
       "      <td>0</td>\n",
       "      <td>0</td>\n",
       "      <td>0</td>\n",
       "      <td>...</td>\n",
       "      <td>39</td>\n",
       "      <td>1</td>\n",
       "      <td>0</td>\n",
       "      <td>0.03</td>\n",
       "      <td>0</td>\n",
       "      <td>0</td>\n",
       "      <td>0</td>\n",
       "      <td>0</td>\n",
       "      <td>0</td>\n",
       "      <td>b'normal.'</td>\n",
       "    </tr>\n",
       "    <tr>\n",
       "      <th>4</th>\n",
       "      <td>0</td>\n",
       "      <td>b'tcp'</td>\n",
       "      <td>b'http'</td>\n",
       "      <td>b'SF'</td>\n",
       "      <td>217</td>\n",
       "      <td>2032</td>\n",
       "      <td>0</td>\n",
       "      <td>0</td>\n",
       "      <td>0</td>\n",
       "      <td>0</td>\n",
       "      <td>...</td>\n",
       "      <td>49</td>\n",
       "      <td>1</td>\n",
       "      <td>0</td>\n",
       "      <td>0.02</td>\n",
       "      <td>0</td>\n",
       "      <td>0</td>\n",
       "      <td>0</td>\n",
       "      <td>0</td>\n",
       "      <td>0</td>\n",
       "      <td>b'normal.'</td>\n",
       "    </tr>\n",
       "  </tbody>\n",
       "</table>\n",
       "<p>5 rows × 42 columns</p>\n",
       "</div>"
      ],
      "text/plain": [
       "  duration protocol_type  service   flag src_bytes dst_bytes land  \\\n",
       "0        0        b'tcp'  b'http'  b'SF'       181      5450    0   \n",
       "1        0        b'tcp'  b'http'  b'SF'       239       486    0   \n",
       "2        0        b'tcp'  b'http'  b'SF'       235      1337    0   \n",
       "3        0        b'tcp'  b'http'  b'SF'       219      1337    0   \n",
       "4        0        b'tcp'  b'http'  b'SF'       217      2032    0   \n",
       "\n",
       "  wrong_fragment urgent hot  ... dst_host_srv_count dst_host_same_srv_rate  \\\n",
       "0              0      0   0  ...                  9                      1   \n",
       "1              0      0   0  ...                 19                      1   \n",
       "2              0      0   0  ...                 29                      1   \n",
       "3              0      0   0  ...                 39                      1   \n",
       "4              0      0   0  ...                 49                      1   \n",
       "\n",
       "  dst_host_diff_srv_rate dst_host_same_src_port_rate  \\\n",
       "0                      0                        0.11   \n",
       "1                      0                        0.05   \n",
       "2                      0                        0.03   \n",
       "3                      0                        0.03   \n",
       "4                      0                        0.02   \n",
       "\n",
       "  dst_host_srv_diff_host_rate dst_host_serror_rate dst_host_srv_serror_rate  \\\n",
       "0                           0                    0                        0   \n",
       "1                           0                    0                        0   \n",
       "2                           0                    0                        0   \n",
       "3                           0                    0                        0   \n",
       "4                           0                    0                        0   \n",
       "\n",
       "  dst_host_rerror_rate dst_host_srv_rerror_rate      labels  \n",
       "0                    0                        0  b'normal.'  \n",
       "1                    0                        0  b'normal.'  \n",
       "2                    0                        0  b'normal.'  \n",
       "3                    0                        0  b'normal.'  \n",
       "4                    0                        0  b'normal.'  \n",
       "\n",
       "[5 rows x 42 columns]"
      ]
     },
     "execution_count": 18,
     "metadata": {},
     "output_type": "execute_result"
    }
   ],
   "source": [
    "\"\"\" Leed el dataframe de sklearn llamado 'fetch_kddcup99' y almacenarlo en una variable llamada data \"\"\"\n",
    "\n",
    "from sklearn.datasets import fetch_kddcup99\n",
    "\n",
    "data = fetch_kddcup99(as_frame=True)\n",
    "pd_data = data.frame\n",
    "pd_data.head()"
   ]
  },
  {
   "cell_type": "code",
   "execution_count": 19,
   "metadata": {},
   "outputs": [
    {
     "data": {
      "text/html": [
       "<div>\n",
       "<style scoped>\n",
       "    .dataframe tbody tr th:only-of-type {\n",
       "        vertical-align: middle;\n",
       "    }\n",
       "\n",
       "    .dataframe tbody tr th {\n",
       "        vertical-align: top;\n",
       "    }\n",
       "\n",
       "    .dataframe thead th {\n",
       "        text-align: right;\n",
       "    }\n",
       "</style>\n",
       "<table border=\"1\" class=\"dataframe\">\n",
       "  <thead>\n",
       "    <tr style=\"text-align: right;\">\n",
       "      <th></th>\n",
       "      <th>duration</th>\n",
       "      <th>protocol_type</th>\n",
       "      <th>service</th>\n",
       "      <th>flag</th>\n",
       "      <th>logged_in</th>\n",
       "      <th>count</th>\n",
       "      <th>srv_count</th>\n",
       "      <th>serror_rate</th>\n",
       "      <th>dst_host_srv_count</th>\n",
       "      <th>dst_host_srv_serror_rate</th>\n",
       "      <th>labels</th>\n",
       "    </tr>\n",
       "  </thead>\n",
       "  <tbody>\n",
       "    <tr>\n",
       "      <th>0</th>\n",
       "      <td>0</td>\n",
       "      <td>b'tcp'</td>\n",
       "      <td>b'http'</td>\n",
       "      <td>b'SF'</td>\n",
       "      <td>1</td>\n",
       "      <td>8</td>\n",
       "      <td>8</td>\n",
       "      <td>0</td>\n",
       "      <td>9</td>\n",
       "      <td>0</td>\n",
       "      <td>b'normal.'</td>\n",
       "    </tr>\n",
       "    <tr>\n",
       "      <th>1</th>\n",
       "      <td>0</td>\n",
       "      <td>b'tcp'</td>\n",
       "      <td>b'http'</td>\n",
       "      <td>b'SF'</td>\n",
       "      <td>1</td>\n",
       "      <td>8</td>\n",
       "      <td>8</td>\n",
       "      <td>0</td>\n",
       "      <td>19</td>\n",
       "      <td>0</td>\n",
       "      <td>b'normal.'</td>\n",
       "    </tr>\n",
       "    <tr>\n",
       "      <th>2</th>\n",
       "      <td>0</td>\n",
       "      <td>b'tcp'</td>\n",
       "      <td>b'http'</td>\n",
       "      <td>b'SF'</td>\n",
       "      <td>1</td>\n",
       "      <td>8</td>\n",
       "      <td>8</td>\n",
       "      <td>0</td>\n",
       "      <td>29</td>\n",
       "      <td>0</td>\n",
       "      <td>b'normal.'</td>\n",
       "    </tr>\n",
       "    <tr>\n",
       "      <th>3</th>\n",
       "      <td>0</td>\n",
       "      <td>b'tcp'</td>\n",
       "      <td>b'http'</td>\n",
       "      <td>b'SF'</td>\n",
       "      <td>1</td>\n",
       "      <td>6</td>\n",
       "      <td>6</td>\n",
       "      <td>0</td>\n",
       "      <td>39</td>\n",
       "      <td>0</td>\n",
       "      <td>b'normal.'</td>\n",
       "    </tr>\n",
       "    <tr>\n",
       "      <th>4</th>\n",
       "      <td>0</td>\n",
       "      <td>b'tcp'</td>\n",
       "      <td>b'http'</td>\n",
       "      <td>b'SF'</td>\n",
       "      <td>1</td>\n",
       "      <td>6</td>\n",
       "      <td>6</td>\n",
       "      <td>0</td>\n",
       "      <td>49</td>\n",
       "      <td>0</td>\n",
       "      <td>b'normal.'</td>\n",
       "    </tr>\n",
       "  </tbody>\n",
       "</table>\n",
       "</div>"
      ],
      "text/plain": [
       "  duration protocol_type  service   flag logged_in count srv_count  \\\n",
       "0        0        b'tcp'  b'http'  b'SF'         1     8         8   \n",
       "1        0        b'tcp'  b'http'  b'SF'         1     8         8   \n",
       "2        0        b'tcp'  b'http'  b'SF'         1     8         8   \n",
       "3        0        b'tcp'  b'http'  b'SF'         1     6         6   \n",
       "4        0        b'tcp'  b'http'  b'SF'         1     6         6   \n",
       "\n",
       "  serror_rate dst_host_srv_count dst_host_srv_serror_rate      labels  \n",
       "0           0                  9                        0  b'normal.'  \n",
       "1           0                 19                        0  b'normal.'  \n",
       "2           0                 29                        0  b'normal.'  \n",
       "3           0                 39                        0  b'normal.'  \n",
       "4           0                 49                        0  b'normal.'  "
      ]
     },
     "execution_count": 19,
     "metadata": {},
     "output_type": "execute_result"
    }
   ],
   "source": [
    "\"\"\" De entre todas las variables del dataframe, solo trabajaremos en \n",
    "    este ejercicio con las descritas en key_columns, por lo que tendréis que quitar el resto \"\"\"\n",
    "\n",
    "key_columns = ['duration', 'protocol_type', 'service', 'flag', 'logged_in', 'count', 'srv_count', 'serror_rate', 'dst_host_srv_count', 'dst_host_srv_serror_rate', 'labels']\n",
    "\n",
    "pd_data = pd_data[key_columns]\n",
    "pd_data.head()"
   ]
  },
  {
   "cell_type": "code",
   "execution_count": 20,
   "metadata": {},
   "outputs": [
    {
     "data": {
      "text/plain": [
       "duration                    0\n",
       "protocol_type               0\n",
       "service                     0\n",
       "flag                        0\n",
       "logged_in                   0\n",
       "count                       0\n",
       "srv_count                   0\n",
       "serror_rate                 0\n",
       "dst_host_srv_count          0\n",
       "dst_host_srv_serror_rate    0\n",
       "labels                      0\n",
       "dtype: int64"
      ]
     },
     "execution_count": 20,
     "metadata": {},
     "output_type": "execute_result"
    }
   ],
   "source": [
    "\"\"\" Comprobad que no haya nulos ni registros duplicados \"\"\"\n",
    "pd_data.isna().sum()"
   ]
  },
  {
   "cell_type": "code",
   "execution_count": 21,
   "metadata": {},
   "outputs": [
    {
     "data": {
      "text/plain": [
       "439856"
      ]
     },
     "execution_count": 21,
     "metadata": {},
     "output_type": "execute_result"
    }
   ],
   "source": [
    "'Duplicados'\n",
    "pd_data.duplicated().sum()"
   ]
  },
  {
   "cell_type": "code",
   "execution_count": 22,
   "metadata": {},
   "outputs": [],
   "source": [
    "'''Elimino duplicados'''\n",
    "pd_data.drop_duplicates(inplace=True)\n",
    "pd_data.reset_index(drop=True, inplace=True)"
   ]
  },
  {
   "cell_type": "code",
   "execution_count": 23,
   "metadata": {},
   "outputs": [
    {
     "data": {
      "text/plain": [
       "<AxesSubplot:xlabel='labels', ylabel='count'>"
      ]
     },
     "execution_count": 23,
     "metadata": {},
     "output_type": "execute_result"
    },
    {
     "data": {
      "image/png": "[encoded data removed]",
      "text/plain": [
       "<Figure size 432x288 with 1 Axes>"
      ]
     },
     "metadata": {},
     "output_type": "display_data"
    }
   ],
   "source": [
    "\"\"\" Mostrar un barplot para la variable objetivo (labels)\"\"\"\n",
    "\n",
    "target = 'labels'\n",
    "sns.countplot(x=target, data=pd_data)"
   ]
  },
  {
   "cell_type": "code",
   "execution_count": 24,
   "metadata": {},
   "outputs": [],
   "source": [
    "\"\"\" Dado que hay dos etiquetas que se repiten con mayor frecuencia, \n",
    "    transformad la variable labels para que tenga un valor booleano que indique \n",
    "    si es la etiqueta más frecuente o la segunda más frecuente, \n",
    "    los demás registros los eliminaremos de este estudio \"\"\"\n",
    "pd_data.groupby('labels').size().sort_values(ascending=False)  #las etiquetas que mas se repiten son neptune y normal\n",
    "pd_data['labels'] = pd_data['labels'].apply(lambda x: 1 if x in [b'neptune.', b'normal.'] else 0)"
   ]
  },
  {
   "cell_type": "code",
   "execution_count": 25,
   "metadata": {},
   "outputs": [
    {
     "data": {
      "text/plain": [
       "1    50177\n",
       "0     3988\n",
       "Name: labels, dtype: int64"
      ]
     },
     "execution_count": 25,
     "metadata": {},
     "output_type": "execute_result"
    }
   ],
   "source": [
    "pd_data['labels'].value_counts()"
   ]
  },
  {
   "cell_type": "code",
   "execution_count": 26,
   "metadata": {},
   "outputs": [
    {
     "data": {
      "text/plain": [
       "<AxesSubplot:xlabel='labels', ylabel='count'>"
      ]
     },
     "execution_count": 26,
     "metadata": {},
     "output_type": "execute_result"
    },
    {
     "data": {
      "image/png": "[encoded data removed]",
      "text/plain": [
       "<Figure size 432x288 with 1 Axes>"
      ]
     },
     "metadata": {},
     "output_type": "display_data"
    }
   ],
   "source": [
    "\"\"\" Volved a mostrar el barplot para la variable objetivo (labels) \"\"\"\n",
    "sns.countplot(x=target, data=pd_data)"
   ]
  },
  {
   "cell_type": "code",
   "execution_count": 27,
   "metadata": {},
   "outputs": [],
   "source": [
    "\"\"\" Separaremos las variables categóricas de las numéricas \"\"\"\n",
    "\n",
    "num_cols = ['duration', 'count', 'srv_count', 'serror_rate', 'dst_host_srv_count', 'dst_host_srv_serror_rate']\n",
    "cat_cols = ['protocol_type', 'service', 'flag', 'logged_in']\n",
    "\n",
    "pd_data[num_cols] = pd_data[num_cols].astype(float)"
   ]
  },
  {
   "cell_type": "code",
   "execution_count": 28,
   "metadata": {
    "scrolled": true
   },
   "outputs": [
    {
     "data": {
      "image/png": "[encoded data removed]",
      "text/plain": [
       "<Figure size 432x288 with 1 Axes>"
      ]
     },
     "metadata": {},
     "output_type": "display_data"
    },
    {
     "name": "stdout",
     "output_type": "stream",
     "text": [
      "0.0        46256\n",
      "1.0         1246\n",
      "2.0          631\n",
      "3.0          438\n",
      "4.0          334\n",
      "           ...  \n",
      "2912.0         1\n",
      "19745.0        1\n",
      "21224.0        1\n",
      "21795.0        1\n",
      "9259.0         1\n",
      "Name: duration, Length: 2495, dtype: int64\n"
     ]
    },
    {
     "data": {
      "image/png": "[encoded data removed]",
      "text/plain": [
       "<Figure size 432x288 with 1 Axes>"
      ]
     },
     "metadata": {},
     "output_type": "display_data"
    },
    {
     "name": "stdout",
     "output_type": "stream",
     "text": [
      "1.0      10711\n",
      "2.0       3269\n",
      "4.0       1287\n",
      "3.0       1242\n",
      "5.0        925\n",
      "         ...  \n",
      "392.0        1\n",
      "304.0        1\n",
      "476.0        1\n",
      "325.0        1\n",
      "394.0        1\n",
      "Name: count, Length: 490, dtype: int64\n"
     ]
    },
    {
     "data": {
      "image/png": "[encoded data removed]",
      "text/plain": [
       "<Figure size 432x288 with 1 Axes>"
      ]
     },
     "metadata": {},
     "output_type": "display_data"
    },
    {
     "name": "stdout",
     "output_type": "stream",
     "text": [
      "1.0      8900\n",
      "2.0      5837\n",
      "3.0      3145\n",
      "4.0      2536\n",
      "5.0      2161\n",
      "         ... \n",
      "467.0       1\n",
      "340.0       1\n",
      "478.0       1\n",
      "388.0       1\n",
      "405.0       1\n",
      "Name: srv_count, Length: 470, dtype: int64\n"
     ]
    },
    {
     "data": {
      "image/png": "[encoded data removed]",
      "text/plain": [
       "<Figure size 432x288 with 1 Axes>"
      ]
     },
     "metadata": {},
     "output_type": "display_data"
    },
    {
     "name": "stdout",
     "output_type": "stream",
     "text": [
      "0.00    30257\n",
      "1.00    22503\n",
      "0.99      302\n",
      "0.01       83\n",
      "0.06       74\n",
      "        ...  \n",
      "0.44        1\n",
      "0.89        1\n",
      "0.35        1\n",
      "0.87        1\n",
      "0.80        1\n",
      "Name: serror_rate, Length: 92, dtype: int64\n"
     ]
    },
    {
     "data": {
      "image/png": "[encoded data removed]",
      "text/plain": [
       "<Figure size 432x288 with 1 Axes>"
      ]
     },
     "metadata": {},
     "output_type": "display_data"
    },
    {
     "name": "stdout",
     "output_type": "stream",
     "text": [
      "255.0    3796\n",
      "1.0      3141\n",
      "2.0      2717\n",
      "3.0      1774\n",
      "4.0      1534\n",
      "         ... \n",
      "218.0      39\n",
      "206.0      38\n",
      "202.0      36\n",
      "204.0      34\n",
      "0.0         2\n",
      "Name: dst_host_srv_count, Length: 256, dtype: int64\n"
     ]
    },
    {
     "data": {
      "image/png": "[encoded data removed]",
      "text/plain": [
       "<Figure size 432x288 with 1 Axes>"
      ]
     },
     "metadata": {},
     "output_type": "display_data"
    },
    {
     "name": "stdout",
     "output_type": "stream",
     "text": [
      "0.00    28314\n",
      "1.00    22883\n",
      "0.01     1932\n",
      "0.02      521\n",
      "0.03      143\n",
      "        ...  \n",
      "0.90        1\n",
      "0.64        1\n",
      "0.23        1\n",
      "0.66        1\n",
      "0.55        1\n",
      "Name: dst_host_srv_serror_rate, Length: 72, dtype: int64\n"
     ]
    }
   ],
   "source": [
    "\"\"\" Mostrad un histograma por cada variable numérica \"\"\"\n",
    "for col in num_cols:\n",
    "    sns.histplot(x=col, data=pd_data)\n",
    "    plt.show()\n",
    "    print(pd_data[col].value_counts())"
   ]
  },
  {
   "cell_type": "code",
   "execution_count": 29,
   "metadata": {},
   "outputs": [],
   "source": [
    "\"\"\" Por la forma de los histogramas, podría ser un buen estudio convertir las variables\n",
    "    numéricas a variables dummy, es lo que hareis en este apartado y, por tanto, pasarán \n",
    "    a ser categóricas todas las variables del dataframe. Esta parte será libre para el \n",
    "    estudiante. Deberá tomar la decisión que considere más apropiada para realizar esta \n",
    "    binarización \"\"\"\n",
    "# un buen valor de threshold puede ser la mediana de cada columna\n",
    "medians = pd_data[num_cols].median().values\n",
    "binar = Binarizer(medians)\n",
    "data_transformed = pd.DataFrame(binar.fit_transform(pd_data[num_cols]), columns=num_cols)"
   ]
  },
  {
   "cell_type": "code",
   "execution_count": null,
   "metadata": {},
   "outputs": [],
   "source": [
    "\"\"\" Mostrad un barplot por cada variable \"\"\"\n",
    "\n",
    "for col in num_cols:\n",
    "    plt.figure(figsize=(15,5))\n",
    "    plt.subplot(1,2,1)\n",
    "    sns.histplot(x=col, data=pd_data)\n",
    "    plt.title('Raw')\n",
    "    plt.xlabel(col)\n",
    "    plt.subplot(1,2,2)\n",
    "    sns.countplot(x=col, data=data_transformed)\n",
    "    plt.title('Transformed')\n",
    "    plt.xlabel(col)\n",
    "\n",
    "# Todas las variables están balanceadas excepto 'duration'"
   ]
  },
  {
   "cell_type": "code",
   "execution_count": 30,
   "metadata": {},
   "outputs": [],
   "source": [
    "pd_data.drop(num_cols,1, inplace=True)"
   ]
  },
  {
   "cell_type": "code",
   "execution_count": 31,
   "metadata": {},
   "outputs": [],
   "source": [
    "# Elimino las variables antiguas y añado las binarizadas\n",
    "pd_result = pd.concat([pd_data, data_transformed], axis=1, join='inner', verify_integrity=True)"
   ]
  },
  {
   "cell_type": "code",
   "execution_count": 34,
   "metadata": {},
   "outputs": [
    {
     "data": {
      "text/plain": [
       "service\n",
       "0    30508\n",
       "1    23657\n",
       "dtype: int64"
      ]
     },
     "execution_count": 34,
     "metadata": {},
     "output_type": "execute_result"
    }
   ],
   "source": [
    "\"\"\" Transformad la variable service en una variable dummy que nos permitan identificar el servicio\n",
    "    más frecuente frente al resto \"\"\"\n",
    "\n",
    "pd_result['service'] = pd_result['service'].apply(lambda x: 1 if x == b'private' else 0)\n",
    "pd_result.groupby('service').size().sort_values(ascending=False)"
   ]
  },
  {
   "cell_type": "code",
   "execution_count": 35,
   "metadata": {},
   "outputs": [],
   "source": [
    "\"\"\" Transformad la variable flag en dos variables dummy que nos permitan identificar 3 tipos de flags, \n",
    "    los dos más comunes y el resto \"\"\"\n",
    "\n",
    "encoder = OneHotEncoder(sparse=False,drop='first')\n",
    "pd_result.groupby('flag').size().sort_values(ascending=False)\n",
    "pd_result['flag'] = pd_result['flag'].apply(lambda x: x if x in [b'SF',b'S0'] else b'Other')\n",
    "\n",
    "flag_trasformed = pd.DataFrame(encoder.fit_transform(pd_result[['flag']]))\n",
    "flag_trasformed.columns = encoder.get_feature_names(['flag'])\n",
    "pd_final = pd.concat([pd_result.drop(['flag'],1), flag_trasformed], 1).reindex()"
   ]
  },
  {
   "cell_type": "code",
   "execution_count": 36,
   "metadata": {
    "collapsed": true,
    "jupyter": {
     "outputs_hidden": true
    }
   },
   "outputs": [
    {
     "data": {
      "image/png": "[encoded data removed]",
      "text/plain": [
       "<Figure size 360x216 with 1 Axes>"
      ]
     },
     "metadata": {},
     "output_type": "display_data"
    },
    {
     "data": {
      "image/png": "[encoded data removed]",
      "text/plain": [
       "<Figure size 360x216 with 1 Axes>"
      ]
     },
     "metadata": {},
     "output_type": "display_data"
    },
    {
     "data": {
      "image/png": "[encoded data removed]",
      "text/plain": [
       "<Figure size 360x216 with 1 Axes>"
      ]
     },
     "metadata": {},
     "output_type": "display_data"
    },
    {
     "data": {
      "image/png": "[encoded data removed]",
      "text/plain": [
       "<Figure size 360x216 with 1 Axes>"
      ]
     },
     "metadata": {},
     "output_type": "display_data"
    },
    {
     "data": {
      "image/png": "[encoded data removed]",
      "text/plain": [
       "<Figure size 360x216 with 1 Axes>"
      ]
     },
     "metadata": {},
     "output_type": "display_data"
    },
    {
     "data": {
      "image/png": "[encoded data removed]",
      "text/plain": [
       "<Figure size 360x216 with 1 Axes>"
      ]
     },
     "metadata": {},
     "output_type": "display_data"
    },
    {
     "data": {
      "image/png": "[encoded data removed]",
      "text/plain": [
       "<Figure size 360x216 with 1 Axes>"
      ]
     },
     "metadata": {},
     "output_type": "display_data"
    },
    {
     "data": {
      "image/png": "[encoded data removed]",
      "text/plain": [
       "<Figure size 360x216 with 1 Axes>"
      ]
     },
     "metadata": {},
     "output_type": "display_data"
    },
    {
     "data": {
      "image/png": "[encoded data removed]",
      "text/plain": [
       "<Figure size 360x216 with 1 Axes>"
      ]
     },
     "metadata": {},
     "output_type": "display_data"
    },
    {
     "data": {
      "image/png": "[encoded data removed]",
      "text/plain": [
       "<Figure size 360x216 with 1 Axes>"
      ]
     },
     "metadata": {},
     "output_type": "display_data"
    },
    {
     "data": {
      "image/png": "[encoded data removed]",
      "text/plain": [
       "<Figure size 360x216 with 1 Axes>"
      ]
     },
     "metadata": {},
     "output_type": "display_data"
    },
    {
     "data": {
      "image/png": "[encoded data removed]",
      "text/plain": [
       "<Figure size 360x216 with 1 Axes>"
      ]
     },
     "metadata": {},
     "output_type": "display_data"
    }
   ],
   "source": [
    "\"\"\" Volved a mostrad un barplot por cada variable \"\"\"\n",
    "for col in pd_final:\n",
    "    plt.figure(figsize=(5,3))\n",
    "    sns.countplot(x=col, data=pd_final)\n",
    "    plt.xlabel(col)"
   ]
  },
  {
   "cell_type": "code",
   "execution_count": 37,
   "metadata": {},
   "outputs": [
    {
     "data": {
      "image/png": "[encoded data removed]",
      "text/plain": [
       "<Figure size 360x360 with 2 Axes>"
      ]
     },
     "metadata": {},
     "output_type": "display_data"
    }
   ],
   "source": [
    "\"\"\" Mostrad un plot de correlaciones entre variables numéricas \"\"\"\n",
    "\n",
    "plt.figure(figsize=(5,5))\n",
    "sns.heatmap(data_transformed.corr(), annot=True)\n",
    "plt.show()\n",
    "\n",
    "#Las correlaciones más altas son de count con dst_host_srv_count y serror_rate con dst_host_srv_count"
   ]
  },
  {
   "cell_type": "markdown",
   "metadata": {},
   "source": [
    "### Model evaluation"
   ]
  },
  {
   "cell_type": "code",
   "execution_count": 38,
   "metadata": {},
   "outputs": [],
   "source": [
    "\"\"\" Realizad una evaluación de, al menos, cinco modelos de machine learning con\n",
    "    la técnica de validación cruzada más acertada (10 splits). Además, se pide\n",
    "    incorporar, al menos, una técnica de selección previa de las 1, 2 o 3 features que\n",
    "    mejores resultados ofrezca (Nota, tendreis que usar OneHotEncoder para las variables \n",
    "    que tengan strings) \"\"\"\n",
    "\n",
    "X = pd_final.drop(target, axis=1) \n",
    "y = pd_final[target]"
   ]
  },
  {
   "cell_type": "code",
   "execution_count": 39,
   "metadata": {},
   "outputs": [],
   "source": [
    "# OneHotEncoder para la columna de protocol_type\n",
    "encoder_prot = OneHotEncoder(sparse=False)\n",
    "protocol_tr = pd.DataFrame(encoder_prot.fit_transform(X[['protocol_type']]))\n",
    "protocol_tr.columns = encoder_prot.get_feature_names(['protocol_type'])\n",
    "X_tr = pd.concat([X.drop(['protocol_type'], 1),\n",
    "          protocol_tr], axis=1).reindex()"
   ]
  },
  {
   "cell_type": "code",
   "execution_count": 68,
   "metadata": {},
   "outputs": [],
   "source": [
    "X_train, X_test, y_train, y_test = train_test_split(X_tr, y, test_size=0.3, random_state=40)"
   ]
  },
  {
   "cell_type": "markdown",
   "metadata": {},
   "source": [
    "**Para KBest:**   \n",
    "La variable que más importancia tiene es la columna que representa el tipo icmp de la columna protocol_type, tiene una puntuación seis veces superior a la de la siguiente variable. Por tanto, es normal que al incluir una o dos variables más al modelo la accuracy del mismo no debería tener demasiada variación"
   ]
  },
  {
   "cell_type": "code",
   "execution_count": 221,
   "metadata": {},
   "outputs": [
    {
     "data": {
      "text/html": [
       "<div>\n",
       "<style scoped>\n",
       "    .dataframe tbody tr th:only-of-type {\n",
       "        vertical-align: middle;\n",
       "    }\n",
       "\n",
       "    .dataframe tbody tr th {\n",
       "        vertical-align: top;\n",
       "    }\n",
       "\n",
       "    .dataframe thead th {\n",
       "        text-align: right;\n",
       "    }\n",
       "</style>\n",
       "<table border=\"1\" class=\"dataframe\">\n",
       "  <thead>\n",
       "    <tr style=\"text-align: right;\">\n",
       "      <th></th>\n",
       "      <th>feature</th>\n",
       "      <th>p_val</th>\n",
       "      <th>score</th>\n",
       "    </tr>\n",
       "  </thead>\n",
       "  <tbody>\n",
       "    <tr>\n",
       "      <th>10</th>\n",
       "      <td>protocol_type_b'icmp'</td>\n",
       "      <td>0.000000e+00</td>\n",
       "      <td>6200.782668</td>\n",
       "    </tr>\n",
       "    <tr>\n",
       "      <th>8</th>\n",
       "      <td>flag_b'S0'</td>\n",
       "      <td>6.143738e-236</td>\n",
       "      <td>1075.755082</td>\n",
       "    </tr>\n",
       "    <tr>\n",
       "      <th>7</th>\n",
       "      <td>dst_host_srv_serror_rate</td>\n",
       "      <td>2.858720e-191</td>\n",
       "      <td>870.264087</td>\n",
       "    </tr>\n",
       "    <tr>\n",
       "      <th>9</th>\n",
       "      <td>flag_b'SF'</td>\n",
       "      <td>1.148098e-177</td>\n",
       "      <td>807.690679</td>\n",
       "    </tr>\n",
       "    <tr>\n",
       "      <th>5</th>\n",
       "      <td>serror_rate</td>\n",
       "      <td>1.833629e-126</td>\n",
       "      <td>572.234239</td>\n",
       "    </tr>\n",
       "    <tr>\n",
       "      <th>3</th>\n",
       "      <td>count</td>\n",
       "      <td>1.473274e-78</td>\n",
       "      <td>352.107142</td>\n",
       "    </tr>\n",
       "    <tr>\n",
       "      <th>11</th>\n",
       "      <td>protocol_type_b'tcp'</td>\n",
       "      <td>1.823042e-70</td>\n",
       "      <td>314.950601</td>\n",
       "    </tr>\n",
       "    <tr>\n",
       "      <th>6</th>\n",
       "      <td>dst_host_srv_count</td>\n",
       "      <td>1.147397e-63</td>\n",
       "      <td>283.744087</td>\n",
       "    </tr>\n",
       "    <tr>\n",
       "      <th>0</th>\n",
       "      <td>service</td>\n",
       "      <td>6.183209e-60</td>\n",
       "      <td>266.621691</td>\n",
       "    </tr>\n",
       "    <tr>\n",
       "      <th>4</th>\n",
       "      <td>srv_count</td>\n",
       "      <td>1.473408e-17</td>\n",
       "      <td>72.747553</td>\n",
       "    </tr>\n",
       "    <tr>\n",
       "      <th>1</th>\n",
       "      <td>logged_in</td>\n",
       "      <td>1.575383e-16</td>\n",
       "      <td>68.073188</td>\n",
       "    </tr>\n",
       "    <tr>\n",
       "      <th>12</th>\n",
       "      <td>protocol_type_b'udp'</td>\n",
       "      <td>4.102497e-04</td>\n",
       "      <td>12.484923</td>\n",
       "    </tr>\n",
       "    <tr>\n",
       "      <th>2</th>\n",
       "      <td>duration</td>\n",
       "      <td>2.198790e-01</td>\n",
       "      <td>1.505161</td>\n",
       "    </tr>\n",
       "  </tbody>\n",
       "</table>\n",
       "</div>"
      ],
      "text/plain": [
       "                     feature          p_val        score\n",
       "10     protocol_type_b'icmp'   0.000000e+00  6200.782668\n",
       "8                 flag_b'S0'  6.143738e-236  1075.755082\n",
       "7   dst_host_srv_serror_rate  2.858720e-191   870.264087\n",
       "9                 flag_b'SF'  1.148098e-177   807.690679\n",
       "5                serror_rate  1.833629e-126   572.234239\n",
       "3                      count   1.473274e-78   352.107142\n",
       "11      protocol_type_b'tcp'   1.823042e-70   314.950601\n",
       "6         dst_host_srv_count   1.147397e-63   283.744087\n",
       "0                    service   6.183209e-60   266.621691\n",
       "4                  srv_count   1.473408e-17    72.747553\n",
       "1                  logged_in   1.575383e-16    68.073188\n",
       "12      protocol_type_b'udp'   4.102497e-04    12.484923\n",
       "2                   duration   2.198790e-01     1.505161"
      ]
     },
     "execution_count": 221,
     "metadata": {},
     "output_type": "execute_result"
    }
   ],
   "source": [
    "algorithm = RandomForestClassifier(random_state=40)\n",
    "for k in range(1, 4):\n",
    "    sel_KBest = SelectKBest(score_func=chi2, k=k)\n",
    "    sel_KBest.fit(X_train, y_train)\n",
    "results = pd.DataFrame(zip(X_train.columns, sel_KBest.pvalues_, sel_KBest.scores_), columns=['feature', 'p_val', 'score'])\n",
    "results.sort_values('score', ascending=False, inplace=True)\n",
    "results"
   ]
  },
  {
   "cell_type": "markdown",
   "metadata": {},
   "source": [
    "**RFE**"
   ]
  },
  {
   "cell_type": "code",
   "execution_count": 210,
   "metadata": {},
   "outputs": [
    {
     "name": "stdout",
     "output_type": "stream",
     "text": [
      "              precision    recall  f1-score   support\n",
      "\n",
      "           0       0.68      0.32      0.44      1167\n",
      "           1       0.95      0.99      0.97     15083\n",
      "\n",
      "    accuracy                           0.94     16250\n",
      "   macro avg       0.81      0.66      0.70     16250\n",
      "weighted avg       0.93      0.94      0.93     16250\n",
      "\n",
      "              precision    recall  f1-score   support\n",
      "\n",
      "           0       1.00      0.25      0.39      1167\n",
      "           1       0.94      1.00      0.97     15083\n",
      "\n",
      "    accuracy                           0.95     16250\n",
      "   macro avg       0.97      0.62      0.68     16250\n",
      "weighted avg       0.95      0.95      0.93     16250\n",
      "\n",
      "              precision    recall  f1-score   support\n",
      "\n",
      "           0       1.00      0.25      0.39      1167\n",
      "           1       0.94      1.00      0.97     15083\n",
      "\n",
      "    accuracy                           0.95     16250\n",
      "   macro avg       0.97      0.62      0.68     16250\n",
      "weighted avg       0.95      0.95      0.93     16250\n",
      "\n"
     ]
    },
    {
     "data": {
      "text/plain": [
       "[<matplotlib.lines.Line2D at 0x1969bb08e80>]"
      ]
     },
     "execution_count": 210,
     "metadata": {},
     "output_type": "execute_result"
    },
    {
     "data": {
      "image/png": "[encoded data removed]",
      "text/plain": [
       "<Figure size 432x288 with 1 Axes>"
      ]
     },
     "metadata": {},
     "output_type": "display_data"
    }
   ],
   "source": [
    "algorithm = RandomForestClassifier(random_state=40)\n",
    "results_RFE = []\n",
    "for k in range(1, 4):\n",
    "    sel_RFE = RFE(estimator=algorithm, n_features_to_select=k)\n",
    "    model2 = make_pipeline(sel_RFE, algorithm)\n",
    "    model2.fit(X_train, y_train)\n",
    "    result_RFE = model2.score(X_test, y_test)\n",
    "    results_RFE.append(result_RFE)\n",
    "    y_pred = model2.predict(X_test)\n",
    "    print(classification_report(y_test, y_pred))\n",
    "plt.plot(range(1,4), results_RFE)"
   ]
  },
  {
   "cell_type": "code",
   "execution_count": 212,
   "metadata": {},
   "outputs": [
    {
     "name": "stdout",
     "output_type": "stream",
     "text": [
      "[[  595   572]\n",
      " [   12 15071]]\n",
      "[[  594   573]\n",
      " [   10 15073]]\n",
      "[[  594   573]\n",
      " [   10 15073]]\n"
     ]
    },
    {
     "data": {
      "text/plain": [
       "[<matplotlib.lines.Line2D at 0x196b3d5e898>]"
      ]
     },
     "execution_count": 212,
     "metadata": {},
     "output_type": "execute_result"
    },
    {
     "data": {
      "image/png": "[encoded data removed]",
      "text/plain": [
       "<Figure size 432x288 with 1 Axes>"
      ]
     },
     "metadata": {},
     "output_type": "display_data"
    }
   ],
   "source": [
    "results_PCA = []\n",
    "for k in range(1,4):\n",
    "    sel_PCA = PCA(n_components=k)\n",
    "    model3 = make_pipeline(sel_PCA, algorithm)\n",
    "    model3.fit(X_train, y_train)\n",
    "    result_PCA = model3.score(X_test, y_test)\n",
    "    y_pred = model3.predict(X_test)\n",
    "    results_PCA.append(result_PCA)\n",
    "    print(confusion_matrix(y_test, y_pred))\n",
    "plt.plot(range(1,4), results_PCA)"
   ]
  },
  {
   "cell_type": "markdown",
   "metadata": {},
   "source": [
    "De todas las técnicas de selección de variables, el mejor resultado se obtiene para 2 o 3 componentes con PCA"
   ]
  },
  {
   "cell_type": "code",
   "execution_count": null,
   "metadata": {},
   "outputs": [],
   "source": [
    "models = [\n",
    "    LogisticRegression(random_state=40), \n",
    "    LinearDiscriminantAnalysis(), \n",
    "    KNeighborsClassifier(),\n",
    "    DecisionTreeClassifier(),\n",
    "    GaussianNB(),\n",
    "    RandomForestClassifier(),\n",
    "    SVC()\n",
    "]"
   ]
  },
  {
   "cell_type": "markdown",
   "metadata": {},
   "source": [
    "## Modelo final con Cross Validation"
   ]
  },
  {
   "cell_type": "code",
   "execution_count": 222,
   "metadata": {},
   "outputs": [
    {
     "data": {
      "image/png": "[encoded data removed]",
      "text/plain": [
       "<Figure size 576x576 with 1 Axes>"
      ]
     },
     "metadata": {},
     "output_type": "display_data"
    }
   ],
   "source": [
    "models = []\n",
    "models.append(('LR', LogisticRegression()))\n",
    "models.append(('LDA', LinearDiscriminantAnalysis()))\n",
    "models.append(('KNN', KNeighborsClassifier()))\n",
    "models.append(('DTC', DecisionTreeClassifier()))\n",
    "models.append(('NB', GaussianNB()))\n",
    "models.append(('RFC', RandomForestClassifier()))\n",
    "models.append(('SVM', SVC()))\n",
    "\n",
    "# para 2 componentes con PCA\n",
    "results = []\n",
    "names = []\n",
    "sel_PCA = PCA(n_components=2)\n",
    "for name, model in models:\n",
    "    pipeline = make_pipeline(sel_PCA, model)\n",
    "\n",
    "    kf = KFold(n_splits=10, shuffle=True, random_state=40)\n",
    "    cv_results = cross_val_score(pipeline,X_train,y_train,cv=kf)             \n",
    "    names.append(name)\n",
    "    results.append(cv_results)\n",
    "\n",
    "plt.figure(figsize=(8,8))\n",
    "plt.boxplot(results)\n",
    "plt.xticks(range(1,len(names)+1), names)\n",
    "plt.show()"
   ]
  },
  {
   "cell_type": "markdown",
   "metadata": {},
   "source": [
    "El mejor resultado en media se obtiene con DecisionTreeClassifier() y RanfomForestClassifier()"
   ]
  },
  {
   "cell_type": "code",
   "execution_count": 223,
   "metadata": {},
   "outputs": [
    {
     "data": {
      "image/png": "[encoded data removed]",
      "text/plain": [
       "<Figure size 576x576 with 1 Axes>"
      ]
     },
     "metadata": {},
     "output_type": "display_data"
    }
   ],
   "source": [
    "# para k=3 con PCA\n",
    "results = []\n",
    "names = []\n",
    "sel_PCA = PCA(n_components=3)\n",
    "for name, model in models:\n",
    "    pipeline = make_pipeline(sel_PCA, model)\n",
    "\n",
    "    kf = KFold(n_splits=10, shuffle=True, random_state=40)\n",
    "    cv_results = cross_val_score(pipeline,X_train,y_train,cv=kf)             \n",
    "    names.append(name)\n",
    "    results.append(cv_results)\n",
    "\n",
    "plt.figure(figsize=(8,8))\n",
    "plt.boxplot(results)\n",
    "plt.xticks(range(1,len(names)+1), names)\n",
    "plt.show()"
   ]
  },
  {
   "cell_type": "markdown",
   "metadata": {},
   "source": [
    "Como se puede apreciar los algoritmos de SVM, y KNN mejoran con 3 componentes con respecto a 2, pero RandomForestClassifier y DecisionTreeClassifier siguen siendo los dos algoritmos con mejor accuracy. Usaré esos dos modelos para calcular la accuracy en test y ver cuál es mejor"
   ]
  },
  {
   "cell_type": "code",
   "execution_count": 224,
   "metadata": {},
   "outputs": [],
   "source": [
    "sel_PCA = PCA(n_components=2)"
   ]
  },
  {
   "cell_type": "code",
   "execution_count": 225,
   "metadata": {},
   "outputs": [
    {
     "name": "stdout",
     "output_type": "stream",
     "text": [
      "0.964123076923077\n"
     ]
    }
   ],
   "source": [
    "pipeline_RFC = make_pipeline(sel_PCA, RandomForestClassifier())\n",
    "pipeline_RFC.fit(X_train, y_train)\n",
    "print(pipeline_RFC.score(X_test, y_test))"
   ]
  },
  {
   "cell_type": "code",
   "execution_count": 226,
   "metadata": {},
   "outputs": [
    {
     "name": "stdout",
     "output_type": "stream",
     "text": [
      "0.9639384615384615\n"
     ]
    }
   ],
   "source": [
    "pipeline_DTC = make_pipeline(sel_PCA, DecisionTreeClassifier())\n",
    "pipeline_DTC.fit(X_train, y_train)\n",
    "print(pipeline_DTC.score(X_test, y_test))"
   ]
  },
  {
   "cell_type": "markdown",
   "metadata": {},
   "source": [
    "Se obtiene mejor resultado en el conjunto de test para el RandomForestClassifier así qeu este será el algoritmo escogido. \n",
    "RandomForestClassifier con la técnica de selección de variables PCA con 2 componentes."
   ]
  }
 ],
 "metadata": {
  "kernelspec": {
   "display_name": "Python 3",
   "language": "python",
   "name": "python3"
  },
  "language_info": {
   "codemirror_mode": {
    "name": "ipython",
    "version": 3
   },
   "file_extension": ".py",
   "mimetype": "text/x-python",
   "name": "python",
   "nbconvert_exporter": "python",
   "pygments_lexer": "ipython3",
   "version": "3.6.12"
  }
 },
 "nbformat": 4,
 "nbformat_minor": 4
}
